{
 "cells": [
  {
   "cell_type": "code",
   "execution_count": 232,
   "metadata": {},
   "outputs": [],
   "source": [
    "import time\n",
    "from selenium import webdriver\n",
    "from webdriver_manager.chrome import ChromeDriverManager\n",
    "from selenium.webdriver.chrome.service import Service\n",
    "from selenium.webdriver.support.ui import Select\n",
    "from selenium.webdriver.common.by import By\n",
    "from selenium.webdriver.common.action_chains import ActionChains\n",
    "from selenium.webdriver.support.ui import WebDriverWait\n",
    "from selenium.webdriver.common.keys import Keys\n",
    "from selenium.common.exceptions import NoSuchElementException, ElementNotInteractableException, StaleElementReferenceException\n",
    "from selenium.webdriver.support import expected_conditions as EC\n",
    "from datetime import datetime\n",
    "\n",
    "link = \"https://inepdata.inep.gov.br/analytics/saw.dll?Dashboard&PortalPath=%2Fshared%2FDisseminação%20dos%20Censos%2FEducação%20Básica%2FPainéis%2FCenso%20da%20Educação%20Básica&Page=Matrícula%20-%20Por%20Ano&NQUser=inepdata&NQPassword=Inep2014\""
   ]
  },
  {
   "cell_type": "code",
   "execution_count": 233,
   "metadata": {},
   "outputs": [],
   "source": [
    "service = Service(ChromeDriverManager().install())"
   ]
  },
  {
   "cell_type": "code",
   "execution_count": 234,
   "metadata": {},
   "outputs": [],
   "source": [
    "navegador = webdriver.Chrome(service=service)\n",
    "\n",
    "max_tentativas = 200"
   ]
  },
  {
   "cell_type": "markdown",
   "metadata": {},
   "source": [
    "# Escolhe Municípios"
   ]
  },
  {
   "cell_type": "code",
   "execution_count": 235,
   "metadata": {},
   "outputs": [],
   "source": [
    "def tryFind(function, interval: float=0.01):\n",
    "    for tentativa in range(max_tentativas):\n",
    "        try:\n",
    "            element = function()\n",
    "            return element\n",
    "        except NoSuchElementException:\n",
    "            print(f\"Trying again find the element {tentativa}...\")\n",
    "            time.sleep(interval)\n",
    "        except ElementNotInteractableException:\n",
    "            print(f\"Trying again interact with the element {tentativa}...\")\n",
    "            time.sleep(interval)\n",
    "        except StaleElementReferenceException:\n",
    "            print(f\"Trying again stale element {tentativa}...\")\n",
    "            time.sleep(interval)\n",
    "        #    print(\"Erro Inesperado!!!\")\n",
    "    # raise Exception(\"Não foi possível acessar o elemento procurado!\")\n",
    "        "
   ]
  },
  {
   "cell_type": "code",
   "execution_count": 236,
   "metadata": {},
   "outputs": [
    {
     "name": "stdout",
     "output_type": "stream",
     "text": [
      "Trying again find the element 0...\n",
      "Trying again find the element 1...\n",
      "Trying again find the element 2...\n",
      "Trying again find the element 3...\n",
      "Trying again find the element 4...\n",
      "Trying again find the element 5...\n",
      "Trying again find the element 6...\n",
      "Trying again find the element 7...\n",
      "Trying again find the element 8...\n",
      "Trying again find the element 9...\n",
      "Trying again find the element 10...\n",
      "Trying again find the element 11...\n",
      "Trying again find the element 12...\n",
      "Trying again find the element 13...\n",
      "Trying again find the element 14...\n",
      "Trying again find the element 15...\n",
      "Trying again find the element 16...\n",
      "Trying again find the element 17...\n",
      "Trying again find the element 18...\n",
      "Trying again find the element 19...\n",
      "Trying again find the element 20...\n",
      "Trying again find the element 21...\n",
      "Trying again find the element 22...\n",
      "Trying again find the element 23...\n",
      "Trying again find the element 24...\n",
      "Trying again find the element 25...\n",
      "Trying again find the element 26...\n",
      "Trying again find the element 27...\n",
      "Trying again find the element 28...\n",
      "Trying again find the element 29...\n",
      "Trying again find the element 30...\n",
      "Trying again find the element 31...\n",
      "Trying again find the element 32...\n",
      "Trying again find the element 33...\n",
      "Trying again find the element 34...\n",
      "Trying again find the element 35...\n",
      "Trying again find the element 36...\n",
      "Trying again find the element 37...\n",
      "Trying again find the element 38...\n",
      "Trying again find the element 39...\n",
      "Trying again find the element 40...\n",
      "Trying again find the element 41...\n",
      "Trying again find the element 42...\n",
      "Trying again find the element 43...\n",
      "Trying again find the element 44...\n",
      "Trying again find the element 45...\n",
      "Trying again find the element 46...\n",
      "Trying again find the element 47...\n",
      "Trying again find the element 48...\n",
      "Trying again find the element 49...\n"
     ]
    }
   ],
   "source": [
    "navegador.get(link)\n",
    "\n",
    "tryFind(lambda:\n",
    "    navegador.find_element(By.XPATH, '/html/body/div[8]/table[2]/tbody/tr[1]/td[2]/div/table[1]/tbody/tr/td[2]/div[1]/div/table[1]/tbody/tr/td[1]/div/table/tbody/tr/td/div/table/tbody/tr/td/div/table/tbody/tr/td[2]/div/div/div/table/tbody/tr/td/div/form/div/table/tbody/tr[2]/td/table/tbody/tr/td[2]/table/tbody/tr/td/table/tbody/tr[2]/td/span/span/span/img').click()\n",
    ")# open window search button\n",
    "\n",
    "tryFind(lambda:\n",
    "    navegador.find_element(By.XPATH, \"/html/body/div[12]/div/table/tbody[1]/tr/td/div[2]/table/tbody/tr[3]/td[2]/table/tbody/tr[5]/td\").click()\n",
    ")# Remove ALL button"
   ]
  },
  {
   "cell_type": "markdown",
   "metadata": {},
   "source": [
    "# NOVO"
   ]
  },
  {
   "cell_type": "code",
   "execution_count": 237,
   "metadata": {},
   "outputs": [],
   "source": [
    "tryFind(lambda:\n",
    "    navegador.find_element(By.XPATH, '/html/body/div[12]/div/table/tbody[1]/tr/td/div[2]/table/tbody/tr[1]/th[2]/div/div/span/img').click()\n",
    ")#abre barra de pesquisa"
   ]
  },
  {
   "cell_type": "code",
   "execution_count": 238,
   "metadata": {},
   "outputs": [],
   "source": [
    "tryFind(lambda:\n",
    "    navegador.find_element(By.XPATH, '//*[@id=\"AvailableDataBrowserGroupBoxTreeButton\"]').click()\n",
    ")#selecionar membro pai"
   ]
  },
  {
   "cell_type": "code",
   "execution_count": 239,
   "metadata": {},
   "outputs": [],
   "source": [
    "tryFind(lambda:\n",
    "    navegador.find_element(By.XPATH, '//*[@id=\"whyNeedAnID$LocalidadeDim.LocalidadeDim_SearchMemberSelect$Brasil_Brasil_disclosure\"]').click()\n",
    ")#abre subtopico Brasil"
   ]
  },
  {
   "cell_type": "code",
   "execution_count": 240,
   "metadata": {},
   "outputs": [],
   "source": [
    "tryFind(lambda:\n",
    "    navegador.find_element(By.XPATH, '//*[@id=\"whyNeedAnID$LocalidadeDim.LocalidadeDim_SearchMemberSelect$Regi%c3%a3o_Sudeste_disclosure\"]').click()\n",
    ")# abre subtopico sudeste"
   ]
  },
  {
   "cell_type": "code",
   "execution_count": 241,
   "metadata": {},
   "outputs": [],
   "source": [
    "tryFind(lambda:\n",
    "    navegador.find_element(By.XPATH, '//*[@id=\"whyNeedAnID$LocalidadeDim.LocalidadeDim_SearchMemberSelect$UF_MG_details\"]/span').click()\n",
    ")# seleciona MG"
   ]
  },
  {
   "cell_type": "code",
   "execution_count": 242,
   "metadata": {},
   "outputs": [],
   "source": [
    "actions = ActionChains(navegador)"
   ]
  },
  {
   "cell_type": "code",
   "execution_count": 243,
   "metadata": {},
   "outputs": [],
   "source": [
    "actions.key_down(Keys.TAB)\n",
    "actions.key_down(Keys.ENTER)\n",
    "actions.perform()"
   ]
  },
  {
   "cell_type": "code",
   "execution_count": 244,
   "metadata": {},
   "outputs": [],
   "source": [
    "option = tryFind(lambda:\n",
    "    navegador.find_element(By.XPATH, '//*[@id=\"AvailableDataBrowserGroupBoxSearchLevelID\"]').click()\n",
    ")\n",
    "time.sleep(1)\n",
    "actions.key_down(Keys.ARROW_DOWN)\n",
    "actions.key_down(Keys.ENTER)\n",
    "actions.perform()"
   ]
  },
  {
   "cell_type": "code",
   "execution_count": 245,
   "metadata": {},
   "outputs": [],
   "source": [
    "tryFind(lambda:\n",
    "    navegador.find_element(By.XPATH, '//*[@id=\"searchButton\"]').click()\n",
    ")# clica em pesquisar"
   ]
  },
  {
   "cell_type": "code",
   "execution_count": 246,
   "metadata": {},
   "outputs": [],
   "source": [
    "from selenium.common.exceptions import ElementClickInterceptedException, TimeoutException\n",
    "\n",
    "botao_mais = '//*[@id=\"searchDialogMoreButton\"]'\n",
    "\n",
    "while True:\n",
    "    try:\n",
    "        more = tryFind(lambda: WebDriverWait(navegador, timeout=3).until(\n",
    "            EC.element_to_be_clickable(\n",
    "                (By.XPATH, botao_mais))\n",
    "        ).click(), 0.1)  # abre todos os  em 'mais'\n",
    "    except ElementClickInterceptedException:\n",
    "        break\n",
    "    except TimeoutException:\n",
    "        break"
   ]
  },
  {
   "cell_type": "code",
   "execution_count": 247,
   "metadata": {},
   "outputs": [],
   "source": [
    "tryFind(lambda:\n",
    "    navegador.find_element(By.XPATH, '//*[@id=\"idMoveAllButton\"]').click()\n",
    ")# mover todos os municipios"
   ]
  },
  {
   "cell_type": "code",
   "execution_count": 248,
   "metadata": {},
   "outputs": [],
   "source": [
    "tryFind(lambda:\n",
    "        navegador.find_element(By.LINK_TEXT, 'OK').click()\n",
    "        )  # confirma selecao"
   ]
  },
  {
   "cell_type": "code",
   "execution_count": 259,
   "metadata": {},
   "outputs": [
    {
     "data": {
      "text/plain": [
       "<selenium.webdriver.remote.webelement.WebElement (session=\"6c16919c622eef2b89af617f51187e67\", element=\"f.A07BE7A380CF5DBC449DF751C6AF7D18.d.D2E3396C5C6388F2E5E5B60F4235A310.e.4911\")>"
      ]
     },
     "execution_count": 259,
     "metadata": {},
     "output_type": "execute_result"
    }
   ],
   "source": []
  },
  {
   "cell_type": "markdown",
   "metadata": {},
   "source": [
    "# A PARTIR DE AQUI É OUTRO JEITO"
   ]
  },
  {
   "cell_type": "code",
   "execution_count": null,
   "metadata": {},
   "outputs": [],
   "source": [
    "tryFind(lambda:\n",
    "    navegador.find_element(By.XPATH, '//*[@id=\"whyNeedAnID$LocalidadeDim.LocalidadeDim_MemberShuttleLeftTreeContainer$Brasil_Brasil_disclosure\"]').click()\n",
    ")#abre subtopico Brasil\n",
    "\n",
    "tryFind(lambda:\n",
    "    navegador.find_element(By.XPATH, '//*[@id=\"whyNeedAnID$LocalidadeDim.LocalidadeDim_MemberShuttleLeftTreeContainer$Regi%c3%a3o_Sudeste_disclosure\"]').click()\n",
    ")# abre subtopico sudeste\n",
    "\n",
    "tryFind(lambda:\n",
    "        navegador.find_element(By.XPATH, '//*[@id=\"whyNeedAnID$LocalidadeDim.LocalidadeDim_MemberShuttleLeftTreeContainer$UF_MG_disclosure\"]').click()\n",
    ")# abre subtopico MG\n",
    "\n",
    "for i in range(25):\n",
    "    tryFind(lambda:\n",
    "        navegador.find_element(By.XPATH, '//*[@id=\"whyNeedAnID$LocalidadeDim.LocalidadeDim_MemberShuttleLeftTreeContainer$UF_MG_pagechildren\"]/div[2]/span/span').click()\n",
    "    )# abre todos os  em 'mais'"
   ]
  },
  {
   "cell_type": "code",
   "execution_count": null,
   "metadata": {},
   "outputs": [],
   "source": [
    "element1 = tryFind(lambda:\n",
    "    navegador.find_element(By.XPATH, '//*[@id=\"whyNeedAnID$LocalidadeDim.LocalidadeDim_MemberShuttleLeftTreeContainer$Munic%c3%adpio_3100104_details\"]/span')\n",
    ")#primeiro municipio\n",
    "\n",
    "element2 = tryFind(lambda:\n",
    "    navegador.find_element(By.XPATH, '//*[@id=\"whyNeedAnID$LocalidadeDim.LocalidadeDim_MemberShuttleLeftTreeContainer$Munic%c3%adpio_3144805_details\"]/span')\n",
    ")# ultimo municipio\n",
    "\n",
    "actions = ActionChains(navegador)\n",
    "\n",
    "actions.key_down(Keys.SHIFT).click(element1)\n",
    "actions.click(element2)\n",
    "actions.key_up(Keys.SHIFT)\n",
    "actions.perform()"
   ]
  },
  {
   "cell_type": "code",
   "execution_count": null,
   "metadata": {},
   "outputs": [],
   "source": [
    "tryFind(lambda:\n",
    "    navegador.find_element(By.XPATH, '//*[@id=\"idShuttleContainerBody\"]/tr[3]/td[2]/table/tbody/tr[1]/td').click()\n",
    ")#move todos os municipios selecionados"
   ]
  },
  {
   "cell_type": "code",
   "execution_count": null,
   "metadata": {},
   "outputs": [],
   "source": [
    "tryFind(lambda:\n",
    "    navegador.find_element(By.LINK_TEXT, 'OK').click()\n",
    ")#confirma selecao"
   ]
  },
  {
   "cell_type": "markdown",
   "metadata": {},
   "source": [
    "# ALTERNA ANOS A CADA CSV E EXPORTA"
   ]
  },
  {
   "cell_type": "code",
   "execution_count": null,
   "metadata": {},
   "outputs": [],
   "source": [
    "date = datetime.now().year - 1 #offset of senso escolar\n",
    "while(date>=2007):\n",
    "    tryFind(lambda:\n",
    "        navegador.find_element(By.CSS_SELECTOR, \"img[src='/analyticsRes/res/s_InepdataCensoEscolar/master/selectdropdown_ena.png']\").click()\n",
    "    )\n",
    "    tryFind(lambda:\n",
    "        navegador.find_element(By.CSS_SELECTOR, f\"div[title='{str(date)}']\").click()\n",
    "    )\n",
    "    tryFind(lambda:\n",
    "        navegador.find_element(By.LINK_TEXT, 'Exportar').click()\n",
    "    )\n",
    "    tryFind(lambda:\n",
    "        navegador.find_element(By.LINK_TEXT, 'Dados').click()\n",
    "    )\n",
    "    tryFind(lambda:\n",
    "        navegador.find_element(By.LINK_TEXT, 'Formato CSV').click()\n",
    "    )\n",
    "    time.sleep(3)\n",
    "    tryFind(lambda:\n",
    "        navegador.find_element(By.CSS_SELECTOR, \"a[name='OK']\").click()\n",
    "    )\n",
    "    date-=1"
   ]
  },
  {
   "cell_type": "markdown",
   "metadata": {},
   "source": [
    "## ALTERNA ETAPAS DE ENSINO E EXPORTA CSV"
   ]
  },
  {
   "cell_type": "code",
   "execution_count": null,
   "metadata": {},
   "outputs": [],
   "source": [
    "tryFind(lambda: WebDriverWait(navegador, 10).until(\n",
    "        EC.element_to_be_clickable((By.CSS_SELECTOR, f\"input[title='Educação Básica']\"))\n",
    "        ).click(), 0.2)#educacao basica drop down"
   ]
  },
  {
   "cell_type": "code",
   "execution_count": null,
   "metadata": {},
   "outputs": [],
   "source": [
    "tryFind(lambda: WebDriverWait(navegador, 10).until(\n",
    "        EC.element_to_be_clickable((By.CSS_SELECTOR, f\"div[title='Ensino Fundamental']\"))\n",
    "    ).click(), 0.2)#ensino fundamental"
   ]
  },
  {
   "cell_type": "code",
   "execution_count": null,
   "metadata": {},
   "outputs": [],
   "source": [
    "tryFind(lambda: WebDriverWait(navegador, 10).until(\n",
    "        EC.element_to_be_clickable((By.CSS_SELECTOR, f\"input[title='Ensino Fundamental']\"))\n",
    "        ).click(), 0.2)#ensino fundamental drop down"
   ]
  },
  {
   "cell_type": "code",
   "execution_count": null,
   "metadata": {},
   "outputs": [],
   "source": [
    "tryFind(lambda: WebDriverWait(navegador, 10).until(\n",
    "        EC.element_to_be_clickable((By.CSS_SELECTOR, f\"div[title='Ensino Médio\"))\n",
    "    ).click(), 0.2)#ensino médio"
   ]
  },
  {
   "cell_type": "code",
   "execution_count": null,
   "metadata": {},
   "outputs": [],
   "source": [
    "tryFind(lambda: WebDriverWait(navegador, 10).until(\n",
    "        EC.element_to_be_clickable((By.CSS_SELECTOR, f\"input[title='Ensino Médio']\"))\n",
    "        ).click(), 0.2)#ensino médio drop down"
   ]
  },
  {
   "cell_type": "code",
   "execution_count": null,
   "metadata": {},
   "outputs": [],
   "source": [
    "tryFind(lambda: WebDriverWait(navegador, 10).until(\n",
    "        EC.element_to_be_clickable((By.CSS_SELECTOR, f\"div[title='1\"))\n",
    "        ).click(), 0.2)#ensino médio drop down"
   ]
  },
  {
   "cell_type": "code",
   "execution_count": null,
   "metadata": {},
   "outputs": [],
   "source": [
    "\n",
    "def open_box(etapa_de_ensino, delay=3):\n",
    "    tryFind(lambda: WebDriverWait(navegador, 10).until(\n",
    "            EC.element_to_be_clickable((By.CSS_SELECTOR, f\"div[title='{etapa_de_ensino}']\"))\n",
    "        ).click(), 2)\n",
    "    time.sleep(delay)\n",
    "\n",
    "def open_dropdown(etapa_de_ensino):\n",
    "    tryFind(lambda: WebDriverWait(navegador, 10).until(\n",
    "            EC.element_to_be_clickable((By.CSS_SELECTOR, f\"input[title='{etapa_de_ensino}']\"))\n",
    "            ).click(), 2)\n",
    "\n",
    "def alternate_years_and_download(category, stage, level):\n",
    "    date = datetime.now().year - 1 #offset of censo escolar\n",
    "    while(date>=2020):\n",
    "        tryFind(lambda:\n",
    "            navegador.find_element(By.CSS_SELECTOR, \"img[src='/analyticsRes/res/s_InepdataCensoEscolar/master/selectdropdown_ena.png']\").click()\n",
    "        )#year dropdown\n",
    "        tryFind(lambda:\n",
    "            navegador.find_element(By.CSS_SELECTOR, f\"div[title='{str(date)}']\").click()\n",
    "        )#select year\n",
    "        #download archive\n",
    "        date-=1\n",
    "        time.sleep(1)\n",
    "\n",
    "def alternate_stages(category):\n",
    "    etapas_de_ensino = ['Ensino Fundamental', 'Ensino Médio']\n",
    "    open_dropdown('Educação Básica')\n",
    "    for etapa in etapas_de_ensino:\n",
    "        open_box(etapa, delay=4)\n",
    "        if etapa == 'Ensino Fundamental':\n",
    "            #alterna entre os filtros, baixa...\n",
    "            alternate_years_and_download(category=category,\n",
    "                                          stage=etapa, \n",
    "                                          level='(Todos os Valores de Colunas)')\n",
    "            open_dropdown('(Todos os Valores de Colunas)')\n",
    "            open_box('Anos Iniciais')\n",
    "            #alterna entre os filtros, baixa...\n",
    "            alternate_years_and_download(category=category,\n",
    "                                          stage=etapa,\n",
    "                                          level='Anos Iniciais')\n",
    "            open_dropdown('Anos Iniciais')\n",
    "            open_box('Anos Finais')\n",
    "            #alterna entre os filtros, baixa...\n",
    "            alternate_years_and_download(category=category,\n",
    "                                          stage=etapa,\n",
    "                                          level='Anos Finais')\n",
    "            open_dropdown(etapa)\n",
    "        else:\n",
    "            #alterna entre os filtros e baixa\n",
    "            alternate_years_and_download(category=category,\n",
    "                                          stage=etapa,\n",
    "                                          level='')\n",
    "\n",
    "    open_dropdown('Ensino Médio') #posicao original\n",
    "    open_box('Educação Básica')\n",
    "\n",
    "def alternate_categories(): #PRINCIPAL\n",
    "    open_dropdown('Localização')\n",
    "    open_box('Cor/Raça', delay=4)\n",
    "    # RODA TODAS AS ALTERNANCIAS DE FILTRO\n",
    "    alternate_stages(category='Cor/Raça') #download\n",
    "    open_dropdown('Cor/Raça')\n",
    "    open_box('Dependência Administrativa', delay=4)\n",
    "    alternate_stages(category='Dependência Administrativa') #download\n",
    "    \n",
    "        \n",
    "def altena_filtros():\n",
    "    alternate_categories()\n",
    "\n",
    "altena_filtros()\n"
   ]
  },
  {
   "cell_type": "code",
   "execution_count": null,
   "metadata": {},
   "outputs": [],
   "source": [
    "ETAPAS_ENSINO = ['Educação Básica', 'Educação Infantil', 'Ensino Fundamental', 'Ensino Médio', 'Educação Profissional', 'Educação de Jovens e Adultos - EJA']\n",
    "\n",
    "for etapa in ETAPAS_ENSINO:\n",
    "        tryFind(lambda:\n",
    "                navegador.find_element(By.XPATH, '//*[@id=\"saw_13349704_7_1_dropdownIcon\"]').click()\n",
    "        )\n",
    "        tryFind(lambda:\n",
    "                navegador.find_element(By.CSS_SELECTOR, f\"div[title='{etapa}']\").click()\n",
    "        )"
   ]
  },
  {
   "cell_type": "markdown",
   "metadata": {},
   "source": [
    "## Seleciona Categoria"
   ]
  },
  {
   "cell_type": "code",
   "execution_count": null,
   "metadata": {},
   "outputs": [],
   "source": [
    "for i in [1, 2]:\n",
    "    tryFind(lambda:\n",
    "            navegador.find_element(By.CSS_SELECTOR, f\"div[title='{i}']\").click(),\n",
    "            0.5\n",
    "    )"
   ]
  },
  {
   "cell_type": "markdown",
   "metadata": {},
   "source": [
    "# ENTRA NA PAGINA ESCOLA E BAIXA CSV"
   ]
  },
  {
   "cell_type": "code",
   "execution_count": null,
   "metadata": {},
   "outputs": [],
   "source": [
    "\"\"\" time.sleep(3)\n",
    "navegador.find_element('xpath', '//*[@id=\"dashboard_page_1_tab\"]/tbody/tr/td').click()\n",
    "navegador.find_element('xpath', '//*[@id=\"d:dashboard~p:cf8bum61lc05uscl~r:b9pju4fmf7hi69l2Links\"]/tbody/tr/td[3]/a').click()\n",
    "\n",
    "dados = navegador.find_element(By.LINK_TEXT, 'Dados').click()\n",
    "csv = navegador.find_element(By.LINK_TEXT, 'Formato CSV').click() \"\"\""
   ]
  }
 ],
 "metadata": {
  "kernelspec": {
   "display_name": "WebScrapper",
   "language": "python",
   "name": "python3"
  },
  "language_info": {
   "codemirror_mode": {
    "name": "ipython",
    "version": 3
   },
   "file_extension": ".py",
   "mimetype": "text/x-python",
   "name": "python",
   "nbconvert_exporter": "python",
   "pygments_lexer": "ipython3",
   "version": "3.12.3"
  }
 },
 "nbformat": 4,
 "nbformat_minor": 2
}
