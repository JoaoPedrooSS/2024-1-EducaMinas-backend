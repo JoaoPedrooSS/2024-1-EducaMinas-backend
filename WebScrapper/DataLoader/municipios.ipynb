{
 "cells": [
  {
   "cell_type": "markdown",
   "metadata": {},
   "source": [
    "## This program extracts municipalities and their codes from Excel and inserts them into the municipalities table in the database"
   ]
  },
  {
   "cell_type": "code",
   "execution_count": 18,
   "metadata": {},
   "outputs": [],
   "source": [
    "import pandas as pd\n",
    "import os\n",
    "from sqlalchemy import create_engine, MetaData\n",
    "from dotenv import dotenv_values\n",
    "\n",
    "path = os.path.abspath(os.path.join(os.getcwd(), \"../indicators_data\"))\n",
    "file = os.path.join(path, 'tx_rend_municipios_2022.xlsx')\n",
    "\n",
    "\n",
    "metadata = MetaData()\n",
    "\n",
    "config = dotenv_values(\"./.env\")\n",
    "username = config.get(\"DATABASE_USERNAME\")\n",
    "password = config.get(\"DATABASE_PASSWORD\")\n",
    "dbname = config.get(\"DATABASE_NAME\")\n",
    "port = config.get(\"DATABASE_PORT\")\n",
    "host = config.get(\"DATABASE_HOST\")\n",
    "\n",
    "engine = create_engine(f\"postgresql+psycopg2://{username}:{password}@{host}:{port}/{dbname}\", echo=True)"
   ]
  },
  {
   "cell_type": "markdown",
   "metadata": {},
   "source": [
    "### Extracts the `id`, `nome` and `UF` columns and filters for the municipality of MG"
   ]
  },
  {
   "cell_type": "code",
   "execution_count": 11,
   "metadata": {},
   "outputs": [
    {
     "data": {
      "text/html": [
       "<div>\n",
       "<style scoped>\n",
       "    .dataframe tbody tr th:only-of-type {\n",
       "        vertical-align: middle;\n",
       "    }\n",
       "\n",
       "    .dataframe tbody tr th {\n",
       "        vertical-align: top;\n",
       "    }\n",
       "\n",
       "    .dataframe thead th {\n",
       "        text-align: right;\n",
       "    }\n",
       "</style>\n",
       "<table border=\"1\" class=\"dataframe\">\n",
       "  <thead>\n",
       "    <tr style=\"text-align: right;\">\n",
       "      <th></th>\n",
       "      <th>UF</th>\n",
       "      <th>id</th>\n",
       "      <th>nome</th>\n",
       "    </tr>\n",
       "  </thead>\n",
       "  <tbody>\n",
       "    <tr>\n",
       "      <th>28354</th>\n",
       "      <td>MG</td>\n",
       "      <td>3100104</td>\n",
       "      <td>Abadia dos Dourados</td>\n",
       "    </tr>\n",
       "    <tr>\n",
       "      <th>28365</th>\n",
       "      <td>MG</td>\n",
       "      <td>3100203</td>\n",
       "      <td>Abaeté</td>\n",
       "    </tr>\n",
       "    <tr>\n",
       "      <th>28378</th>\n",
       "      <td>MG</td>\n",
       "      <td>3100302</td>\n",
       "      <td>Abre Campo</td>\n",
       "    </tr>\n",
       "    <tr>\n",
       "      <th>28390</th>\n",
       "      <td>MG</td>\n",
       "      <td>3100401</td>\n",
       "      <td>Acaiaca</td>\n",
       "    </tr>\n",
       "    <tr>\n",
       "      <th>28403</th>\n",
       "      <td>MG</td>\n",
       "      <td>3100500</td>\n",
       "      <td>Açucena</td>\n",
       "    </tr>\n",
       "    <tr>\n",
       "      <th>...</th>\n",
       "      <td>...</td>\n",
       "      <td>...</td>\n",
       "      <td>...</td>\n",
       "    </tr>\n",
       "    <tr>\n",
       "      <th>37797</th>\n",
       "      <td>MG</td>\n",
       "      <td>3171808</td>\n",
       "      <td>Virginópolis</td>\n",
       "    </tr>\n",
       "    <tr>\n",
       "      <th>37811</th>\n",
       "      <td>MG</td>\n",
       "      <td>3171907</td>\n",
       "      <td>Virgolândia</td>\n",
       "    </tr>\n",
       "    <tr>\n",
       "      <th>37819</th>\n",
       "      <td>MG</td>\n",
       "      <td>3172004</td>\n",
       "      <td>Visconde do Rio Branco</td>\n",
       "    </tr>\n",
       "    <tr>\n",
       "      <th>37833</th>\n",
       "      <td>MG</td>\n",
       "      <td>3172103</td>\n",
       "      <td>Volta Grande</td>\n",
       "    </tr>\n",
       "    <tr>\n",
       "      <th>37844</th>\n",
       "      <td>MG</td>\n",
       "      <td>3172202</td>\n",
       "      <td>Wenceslau Braz</td>\n",
       "    </tr>\n",
       "  </tbody>\n",
       "</table>\n",
       "<p>853 rows × 3 columns</p>\n",
       "</div>"
      ],
      "text/plain": [
       "       UF       id                    nome\n",
       "28354  MG  3100104     Abadia dos Dourados\n",
       "28365  MG  3100203                  Abaeté\n",
       "28378  MG  3100302              Abre Campo\n",
       "28390  MG  3100401                 Acaiaca\n",
       "28403  MG  3100500                 Açucena\n",
       "...    ..      ...                     ...\n",
       "37797  MG  3171808            Virginópolis\n",
       "37811  MG  3171907             Virgolândia\n",
       "37819  MG  3172004  Visconde do Rio Branco\n",
       "37833  MG  3172103            Volta Grande\n",
       "37844  MG  3172202          Wenceslau Braz\n",
       "\n",
       "[853 rows x 3 columns]"
      ]
     },
     "metadata": {},
     "output_type": "display_data"
    }
   ],
   "source": [
    "df = pd.read_excel(file, skiprows=5, usecols=['UF', 'Código do Município', 'Nome do Município'])\n",
    "df = df[df['UF'] == 'MG']\n",
    "df = df.drop_duplicates()\n",
    "df = df.rename(columns={\n",
    "    'Código do Município':'id',\n",
    "    'Nome do Município':'nome',\n",
    "})\n",
    "\n",
    "display(df)"
   ]
  },
  {
   "cell_type": "code",
   "execution_count": 12,
   "metadata": {},
   "outputs": [
    {
     "name": "stdout",
     "output_type": "stream",
     "text": [
      "2024-07-26 16:22:50,853 INFO sqlalchemy.engine.Engine select pg_catalog.version()\n",
      "2024-07-26 16:22:50,857 INFO sqlalchemy.engine.Engine [raw sql] {}\n",
      "2024-07-26 16:22:50,932 INFO sqlalchemy.engine.Engine select current_schema()\n",
      "2024-07-26 16:22:50,934 INFO sqlalchemy.engine.Engine [raw sql] {}\n",
      "2024-07-26 16:22:50,999 INFO sqlalchemy.engine.Engine show standard_conforming_strings\n",
      "2024-07-26 16:22:51,007 INFO sqlalchemy.engine.Engine [raw sql] {}\n",
      "2024-07-26 16:22:51,076 INFO sqlalchemy.engine.Engine BEGIN (implicit)\n",
      "2024-07-26 16:22:51,246 INFO sqlalchemy.engine.Engine SELECT pg_catalog.pg_class.relname \n",
      "FROM pg_catalog.pg_class JOIN pg_catalog.pg_namespace ON pg_catalog.pg_namespace.oid = pg_catalog.pg_class.relnamespace \n",
      "WHERE pg_catalog.pg_class.relname = %(table_name)s AND pg_catalog.pg_class.relkind = ANY (ARRAY[%(param_1)s, %(param_2)s, %(param_3)s, %(param_4)s, %(param_5)s]) AND pg_catalog.pg_table_is_visible(pg_catalog.pg_class.oid) AND pg_catalog.pg_namespace.nspname != %(nspname_1)s\n",
      "2024-07-26 16:22:51,247 INFO sqlalchemy.engine.Engine [generated in 0.00174s] {'table_name': 'Municipio', 'param_1': 'r', 'param_2': 'p', 'param_3': 'f', 'param_4': 'v', 'param_5': 'm', 'nspname_1': 'pg_catalog'}\n",
      "2024-07-26 16:22:51,316 INFO sqlalchemy.engine.Engine INSERT INTO \"Municipio\" (\"UF\", id, nome) VALUES (%(UF__0)s, %(id__0)s, %(nome__0)s), (%(UF__1)s, %(id__1)s, %(nome__1)s), (%(UF__2)s, %(id__2)s, %(nome__2)s), (%(UF__3)s, %(id__3)s, %(nome__3)s), (%(UF__4)s, %(id__4)s, %(nome__4)s), (%(UF__5)s, %(id_ ... 36045 characters truncated ... %(nome__850)s), (%(UF__851)s, %(id__851)s, %(nome__851)s), (%(UF__852)s, %(id__852)s, %(nome__852)s)\n",
      "2024-07-26 16:22:51,317 INFO sqlalchemy.engine.Engine [generated in 0.00213s (insertmanyvalues) 1/1 (unordered)] {'id__0': 3100104, 'UF__0': 'MG', 'nome__0': 'Abadia dos Dourados', 'id__1': 3100203, 'UF__1': 'MG', 'nome__1': 'Abaeté', 'id__2': 3100302, 'UF__2': 'MG', 'nome__2': 'Abre Campo', 'id__3': 3100401, 'UF__3': 'MG', 'nome__3': 'Acaiaca', 'id__4': 3100500, 'UF__4': 'MG', 'nome__4': 'Açucena', 'id__5': 3100609, 'UF__5': 'MG', 'nome__5': 'Água Boa', 'id__6': 3100708, 'UF__6': 'MG', 'nome__6': 'Água Comprida', 'id__7': 3100807, 'UF__7': 'MG', 'nome__7': 'Aguanil', 'id__8': 3100906, 'UF__8': 'MG', 'nome__8': 'Águas Formosas', 'id__9': 3101003, 'UF__9': 'MG', 'nome__9': 'Águas Vermelhas', 'id__10': 3101102, 'UF__10': 'MG', 'nome__10': 'Aimorés', 'id__11': 3101201, 'UF__11': 'MG', 'nome__11': 'Aiuruoca', 'id__12': 3101300, 'UF__12': 'MG', 'nome__12': 'Alagoa', 'id__13': 3101409, 'UF__13': 'MG', 'nome__13': 'Albertina', 'id__14': 3101508, 'UF__14': 'MG', 'nome__14': 'Além Paraíba', 'id__15': 3101607, 'UF__15': 'MG', 'nome__15': 'Alfenas', 'id__16': 3101631, 'UF__16': 'MG' ... 2459 parameters truncated ... 'UF__836': 'MG', 'nome__836': 'Varzelândia', 'id__837': 3171006, 'UF__837': 'MG', 'nome__837': 'Vazante', 'id__838': 3171030, 'UF__838': 'MG', 'nome__838': 'Verdelândia', 'id__839': 3171071, 'UF__839': 'MG', 'nome__839': 'Veredinha', 'id__840': 3171105, 'UF__840': 'MG', 'nome__840': 'Veríssimo', 'id__841': 3171154, 'UF__841': 'MG', 'nome__841': 'Vermelho Novo', 'id__842': 3171204, 'UF__842': 'MG', 'nome__842': 'Vespasiano', 'id__843': 3171303, 'UF__843': 'MG', 'nome__843': 'Viçosa', 'id__844': 3171402, 'UF__844': 'MG', 'nome__844': 'Vieiras', 'id__845': 3171501, 'UF__845': 'MG', 'nome__845': 'Mathias Lobato', 'id__846': 3171600, 'UF__846': 'MG', 'nome__846': 'Virgem da Lapa', 'id__847': 3171709, 'UF__847': 'MG', 'nome__847': 'Virgínia', 'id__848': 3171808, 'UF__848': 'MG', 'nome__848': 'Virginópolis', 'id__849': 3171907, 'UF__849': 'MG', 'nome__849': 'Virgolândia', 'id__850': 3172004, 'UF__850': 'MG', 'nome__850': 'Visconde do Rio Branco', 'id__851': 3172103, 'UF__851': 'MG', 'nome__851': 'Volta Grande', 'id__852': 3172202, 'UF__852': 'MG', 'nome__852': 'Wenceslau Braz'}\n",
      "2024-07-26 16:22:51,460 INFO sqlalchemy.engine.Engine SELECT pg_catalog.pg_class.relname \n",
      "FROM pg_catalog.pg_class JOIN pg_catalog.pg_namespace ON pg_catalog.pg_namespace.oid = pg_catalog.pg_class.relnamespace \n",
      "WHERE pg_catalog.pg_class.relkind = ANY (ARRAY[%(param_1)s, %(param_2)s]) AND pg_catalog.pg_class.relpersistence != %(relpersistence_1)s AND pg_catalog.pg_table_is_visible(pg_catalog.pg_class.oid) AND pg_catalog.pg_namespace.nspname != %(nspname_1)s\n",
      "2024-07-26 16:22:51,463 INFO sqlalchemy.engine.Engine [generated in 0.00403s] {'param_1': 'r', 'param_2': 'p', 'relpersistence_1': 't', 'nspname_1': 'pg_catalog'}\n",
      "2024-07-26 16:22:51,500 INFO sqlalchemy.engine.Engine COMMIT\n"
     ]
    },
    {
     "data": {
      "text/plain": [
       "853"
      ]
     },
     "execution_count": 12,
     "metadata": {},
     "output_type": "execute_result"
    }
   ],
   "source": [
    "df.to_sql('Municipio', con=engine, if_exists='append', index=False)"
   ]
  }
 ],
 "metadata": {
  "kernelspec": {
   "display_name": "WebScrapper",
   "language": "python",
   "name": "python3"
  },
  "language_info": {
   "codemirror_mode": {
    "name": "ipython",
    "version": 3
   },
   "file_extension": ".py",
   "mimetype": "text/x-python",
   "name": "python",
   "nbconvert_exporter": "python",
   "pygments_lexer": "ipython3",
   "version": "3.12.3"
  }
 },
 "nbformat": 4,
 "nbformat_minor": 2
}
