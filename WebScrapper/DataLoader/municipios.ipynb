{
 "cells": [
  {
   "cell_type": "markdown",
   "metadata": {},
   "source": [
    "## This program extracts municipalities and their codes from Excel and inserts them into the municipalities table in the database"
   ]
  },
  {
   "cell_type": "code",
   "execution_count": 22,
   "metadata": {},
   "outputs": [],
   "source": [
    "import pandas as pd\n",
    "import os\n",
    "import json\n",
    "from sqlalchemy import create_engine, MetaData\n",
    "from dotenv import dotenv_values\n",
    "\n",
    "path = os.path.abspath(os.path.join(os.getcwd(), \"../indicators_data\"))\n",
    "file = os.path.join(path, 'tx_rend_municipios_2022.xlsx')\n",
    "\n",
    "\n",
    "metadata = MetaData()\n",
    "\n",
    "config = dotenv_values(\"./.env\")\n",
    "username = config.get(\"DATABASE_USERNAME\")\n",
    "password = config.get(\"DATABASE_PASSWORD\")\n",
    "dbname = config.get(\"DATABASE_NAME\")\n",
    "port = config.get(\"DATABASE_PORT\")\n",
    "host = config.get(\"DATABASE_HOST\")\n",
    "\n",
    "engine = create_engine(f\"postgresql+psycopg2://{username}:{password}@{host}:{port}/{dbname}\", echo=True)"
   ]
  },
  {
   "cell_type": "markdown",
   "metadata": {},
   "source": [
    "### Extracts the `id`, `nome` and `UF` columns and filters for the municipality of MG"
   ]
  },
  {
   "cell_type": "code",
   "execution_count": 2,
   "metadata": {},
   "outputs": [
    {
     "data": {
      "text/html": [
       "<div>\n",
       "<style scoped>\n",
       "    .dataframe tbody tr th:only-of-type {\n",
       "        vertical-align: middle;\n",
       "    }\n",
       "\n",
       "    .dataframe tbody tr th {\n",
       "        vertical-align: top;\n",
       "    }\n",
       "\n",
       "    .dataframe thead th {\n",
       "        text-align: right;\n",
       "    }\n",
       "</style>\n",
       "<table border=\"1\" class=\"dataframe\">\n",
       "  <thead>\n",
       "    <tr style=\"text-align: right;\">\n",
       "      <th></th>\n",
       "      <th>UF</th>\n",
       "      <th>id</th>\n",
       "      <th>nome</th>\n",
       "    </tr>\n",
       "  </thead>\n",
       "  <tbody>\n",
       "    <tr>\n",
       "      <th>28354</th>\n",
       "      <td>MG</td>\n",
       "      <td>3100104</td>\n",
       "      <td>Abadia dos Dourados</td>\n",
       "    </tr>\n",
       "    <tr>\n",
       "      <th>28365</th>\n",
       "      <td>MG</td>\n",
       "      <td>3100203</td>\n",
       "      <td>Abaeté</td>\n",
       "    </tr>\n",
       "    <tr>\n",
       "      <th>28378</th>\n",
       "      <td>MG</td>\n",
       "      <td>3100302</td>\n",
       "      <td>Abre Campo</td>\n",
       "    </tr>\n",
       "    <tr>\n",
       "      <th>28390</th>\n",
       "      <td>MG</td>\n",
       "      <td>3100401</td>\n",
       "      <td>Acaiaca</td>\n",
       "    </tr>\n",
       "    <tr>\n",
       "      <th>28403</th>\n",
       "      <td>MG</td>\n",
       "      <td>3100500</td>\n",
       "      <td>Açucena</td>\n",
       "    </tr>\n",
       "    <tr>\n",
       "      <th>...</th>\n",
       "      <td>...</td>\n",
       "      <td>...</td>\n",
       "      <td>...</td>\n",
       "    </tr>\n",
       "    <tr>\n",
       "      <th>37797</th>\n",
       "      <td>MG</td>\n",
       "      <td>3171808</td>\n",
       "      <td>Virginópolis</td>\n",
       "    </tr>\n",
       "    <tr>\n",
       "      <th>37811</th>\n",
       "      <td>MG</td>\n",
       "      <td>3171907</td>\n",
       "      <td>Virgolândia</td>\n",
       "    </tr>\n",
       "    <tr>\n",
       "      <th>37819</th>\n",
       "      <td>MG</td>\n",
       "      <td>3172004</td>\n",
       "      <td>Visconde do Rio Branco</td>\n",
       "    </tr>\n",
       "    <tr>\n",
       "      <th>37833</th>\n",
       "      <td>MG</td>\n",
       "      <td>3172103</td>\n",
       "      <td>Volta Grande</td>\n",
       "    </tr>\n",
       "    <tr>\n",
       "      <th>37844</th>\n",
       "      <td>MG</td>\n",
       "      <td>3172202</td>\n",
       "      <td>Wenceslau Braz</td>\n",
       "    </tr>\n",
       "  </tbody>\n",
       "</table>\n",
       "<p>853 rows × 3 columns</p>\n",
       "</div>"
      ],
      "text/plain": [
       "       UF       id                    nome\n",
       "28354  MG  3100104     Abadia dos Dourados\n",
       "28365  MG  3100203                  Abaeté\n",
       "28378  MG  3100302              Abre Campo\n",
       "28390  MG  3100401                 Acaiaca\n",
       "28403  MG  3100500                 Açucena\n",
       "...    ..      ...                     ...\n",
       "37797  MG  3171808            Virginópolis\n",
       "37811  MG  3171907             Virgolândia\n",
       "37819  MG  3172004  Visconde do Rio Branco\n",
       "37833  MG  3172103            Volta Grande\n",
       "37844  MG  3172202          Wenceslau Braz\n",
       "\n",
       "[853 rows x 3 columns]"
      ]
     },
     "metadata": {},
     "output_type": "display_data"
    }
   ],
   "source": [
    "df = pd.read_excel(file, skiprows=5, usecols=['UF', 'Código do Município', 'Nome do Município'])\n",
    "df = df[df['UF'] == 'MG']\n",
    "df = df.drop_duplicates()\n",
    "df = df.rename(columns={\n",
    "    'Código do Município':'id',\n",
    "    'Nome do Município':'nome',\n",
    "})\n",
    "\n",
    "display(df)"
   ]
  },
  {
   "cell_type": "markdown",
   "metadata": {},
   "source": [
    "### Converte dados dos id's dos municipios e nomes para dicionario e salva em um arquivo python"
   ]
  },
  {
   "cell_type": "code",
   "execution_count": 24,
   "metadata": {},
   "outputs": [
    {
     "name": "stdout",
     "output_type": "stream",
     "text": [
      "{'Abadia dos Dourados': 3100104, 'Abaeté': 3100203, 'Abre Campo': 3100302, 'Acaiaca': 3100401, 'Açucena': 3100500, 'Água Boa': 3100609, 'Água Comprida': 3100708, 'Aguanil': 3100807, 'Águas Formosas': 3100906, 'Águas Vermelhas': 3101003, 'Aimorés': 3101102, 'Aiuruoca': 3101201, 'Alagoa': 3101300, 'Albertina': 3101409, 'Além Paraíba': 3101508, 'Alfenas': 3101607, 'Alfredo Vasconcelos': 3101631, 'Almenara': 3101706, 'Alpercata': 3101805, 'Alpinópolis': 3101904, 'Alterosa': 3102001, 'Alto Caparaó': 3102050, 'Alto Rio Doce': 3102100, 'Alvarenga': 3102209, 'Alvinópolis': 3102308, 'Alvorada de Minas': 3102407, 'Amparo do Serra': 3102506, 'Andradas': 3102605, 'Cachoeira de Pajeú': 3102704, 'Andrelândia': 3102803, 'Angelândia': 3102852, 'Antônio Carlos': 3102902, 'Antônio Dias': 3103009, 'Antônio Prado de Minas': 3103108, 'Araçaí': 3103207, 'Aracitaba': 3103306, 'Araçuaí': 3103405, 'Araguari': 3103504, 'Arantina': 3103603, 'Araponga': 3103702, 'Araporã': 3103751, 'Arapuá': 3103801, 'Araújos': 3103900, 'Araxá': 3104007, 'Arceburgo': 3104106, 'Arcos': 3104205, 'Areado': 3104304, 'Argirita': 3104403, 'Aricanduva': 3104452, 'Arinos': 3104502, 'Astolfo Dutra': 3104601, 'Ataléia': 3104700, 'Augusto de Lima': 3104809, 'Baependi': 3104908, 'Baldim': 3105004, 'Bambuí': 3105103, 'Bandeira': 3105202, 'Bandeira do Sul': 3105301, 'Barão de Cocais': 3105400, 'Barão de Monte Alto': 3105509, 'Barbacena': 3105608, 'Barra Longa': 3105707, 'Barroso': 3105905, 'Bela Vista de Minas': 3106002, 'Belmiro Braga': 3106101, 'Belo Horizonte': 3106200, 'Belo Oriente': 3106309, 'Belo Vale': 3106408, 'Berilo': 3106507, 'Bertópolis': 3106606, 'Berizal': 3106655, 'Betim': 3106705, 'Bias Fortes': 3106804, 'Bicas': 3106903, 'Biquinhas': 3107000, 'Boa Esperança': 3107109, 'Bocaina de Minas': 3107208, 'Bocaiúva': 3107307, 'Bom Despacho': 3107406, 'Bom Jardim de Minas': 3107505, 'Bom Jesus da Penha': 3107604, 'Bom Jesus do Amparo': 3107703, 'Bom Jesus do Galho': 3107802, 'Bom Repouso': 3107901, 'Bom Sucesso': 3108008, 'Bonfim': 3108107, 'Bonfinópolis de Minas': 3108206, 'Bonito de Minas': 3108255, 'Borda da Mata': 3108305, 'Botelhos': 3108404, 'Botumirim': 3108503, 'Brasilândia de Minas': 3108552, 'Brasília de Minas': 3108602, 'Brás Pires': 3108701, 'Braúnas': 3108800, 'Brazópolis': 3108909, 'Brumadinho': 3109006, 'Bueno Brandão': 3109105, 'Buenópolis': 3109204, 'Bugre': 3109253, 'Buritis': 3109303, 'Buritizeiro': 3109402, 'Cabeceira Grande': 3109451, 'Cabo Verde': 3109501, 'Cachoeira da Prata': 3109600, 'Cachoeira de Minas': 3109709, 'Cachoeira Dourada': 3109808, 'Caetanópolis': 3109907, 'Caeté': 3110004, 'Caiana': 3110103, 'Cajuri': 3110202, 'Caldas': 3110301, 'Camacho': 3110400, 'Camanducaia': 3110509, 'Cambuí': 3110608, 'Cambuquira': 3110707, 'Campanário': 3110806, 'Campanha': 3110905, 'Campestre': 3111002, 'Campina Verde': 3111101, 'Campo Azul': 3111150, 'Campo Belo': 3111200, 'Campo do Meio': 3111309, 'Campo Florido': 3111408, 'Campos Altos': 3111507, 'Campos Gerais': 3111606, 'Canaã': 3111705, 'Canápolis': 3111804, 'Cana Verde': 3111903, 'Candeias': 3112000, 'Cantagalo': 3112059, 'Caparaó': 3112109, 'Capela Nova': 3112208, 'Capelinha': 3112307, 'Capetinga': 3112406, 'Capim Branco': 3112505, 'Capinópolis': 3112604, 'Capitão Andrade': 3112653, 'Capitão Enéas': 3112703, 'Capitólio': 3112802, 'Caputira': 3112901, 'Caraí': 3113008, 'Caranaíba': 3113107, 'Carandaí': 3113206, 'Carangola': 3113305, 'Caratinga': 3113404, 'Carbonita': 3113503, 'Careaçu': 3113602, 'Carlos Chagas': 3113701, 'Carmésia': 3113800, 'Carmo da Cachoeira': 3113909, 'Carmo da Mata': 3114006, 'Carmo de Minas': 3114105, 'Carmo do Cajuru': 3114204, 'Carmo do Paranaíba': 3114303, 'Carmo do Rio Claro': 3114402, 'Carmópolis de Minas': 3114501, 'Carneirinho': 3114550, 'Carrancas': 3114600, 'Carvalhópolis': 3114709, 'Carvalhos': 3114808, 'Casa Grande': 3114907, 'Cascalho Rico': 3115003, 'Cássia': 3115102, 'Conceição da Barra de Minas': 3115201, 'Cataguases': 3115300, 'Catas Altas': 3115359, 'Catas Altas da Noruega': 3115409, 'Catuji': 3115458, 'Catuti': 3115474, 'Caxambu': 3115508, 'Cedro do Abaeté': 3115607, 'Central de Minas': 3115706, 'Centralina': 3115805, 'Chácara': 3115904, 'Chalé': 3116001, 'Chapada do Norte': 3116100, 'Chapada Gaúcha': 3116159, 'Chiador': 3116209, 'Cipotânea': 3116308, 'Claraval': 3116407, 'Claro dos Poções': 3116506, 'Cláudio': 3116605, 'Coimbra': 3116704, 'Coluna': 3116803, 'Comendador Gomes': 3116902, 'Comercinho': 3117009, 'Conceição da Aparecida': 3117108, 'Conceição das Pedras': 3117207, 'Conceição das Alagoas': 3117306, 'Conceição de Ipanema': 3117405, 'Conceição do Mato Dentro': 3117504, 'Conceição do Pará': 3117603, 'Conceição do Rio Verde': 3117702, 'Conceição dos Ouros': 3117801, 'Cônego Marinho': 3117836, 'Confins': 3117876, 'Congonhal': 3117900, 'Congonhas': 3118007, 'Congonhas do Norte': 3118106, 'Conquista': 3118205, 'Conselheiro Lafaiete': 3118304, 'Conselheiro Pena': 3118403, 'Consolação': 3118502, 'Contagem': 3118601, 'Coqueiral': 3118700, 'Coração de Jesus': 3118809, 'Cordisburgo': 3118908, 'Cordislândia': 3119005, 'Corinto': 3119104, 'Coroaci': 3119203, 'Coromandel': 3119302, 'Coronel Fabriciano': 3119401, 'Coronel Murta': 3119500, 'Coronel Pacheco': 3119609, 'Coronel Xavier Chaves': 3119708, 'Córrego Danta': 3119807, 'Córrego do Bom Jesus': 3119906, 'Córrego Fundo': 3119955, 'Córrego Novo': 3120003, 'Couto de Magalhães de Minas': 3120102, 'Crisólita': 3120151, 'Cristais': 3120201, 'Cristália': 3120300, 'Cristiano Otoni': 3120409, 'Cristina': 3120508, 'Crucilândia': 3120607, 'Cruzeiro da Fortaleza': 3120706, 'Cruzília': 3120805, 'Cuparaque': 3120839, 'Curral de Dentro': 3120870, 'Curvelo': 3120904, 'Datas': 3121001, 'Delfim Moreira': 3121100, 'Delfinópolis': 3121209, 'Delta': 3121258, 'Descoberto': 3121308, 'Desterro de Entre Rios': 3121407, 'Desterro do Melo': 3121506, 'Diamantina': 3121605, 'Diogo de Vasconcelos': 3121704, 'Dionísio': 3121803, 'Divinésia': 3121902, 'Divino': 3122009, 'Divino das Laranjeiras': 3122108, 'Divinolândia de Minas': 3122207, 'Divinópolis': 3122306, 'Divisa Alegre': 3122355, 'Divisa Nova': 3122405, 'Divisópolis': 3122454, 'Dom Bosco': 3122470, 'Dom Cavati': 3122504, 'Dom Joaquim': 3122603, 'Dom Silvério': 3122702, 'Dom Viçoso': 3122801, 'Dona Euzébia': 3122900, 'Dores de Campos': 3123007, 'Dores de Guanhães': 3123106, 'Dores do Indaiá': 3123205, 'Dores do Turvo': 3123304, 'Doresópolis': 3123403, 'Douradoquara': 3123502, 'Durandé': 3123528, 'Elói Mendes': 3123601, 'Engenheiro Caldas': 3123700, 'Engenheiro Navarro': 3123809, 'Entre Folhas': 3123858, 'Entre Rios de Minas': 3123908, 'Ervália': 3124005, 'Esmeraldas': 3124104, 'Espera Feliz': 3124203, 'Espinosa': 3124302, 'Espírito Santo do Dourado': 3124401, 'Estiva': 3124500, 'Estrela Dalva': 3124609, 'Estrela do Indaiá': 3124708, 'Estrela do Sul': 3124807, 'Eugenópolis': 3124906, 'Ewbank da Câmara': 3125002, 'Extrema': 3125101, 'Fama': 3125200, 'Faria Lemos': 3125309, 'Felício dos Santos': 3125408, 'São Gonçalo do Rio Preto': 3125507, 'Felisburgo': 3125606, 'Felixlândia': 3125705, 'Fernandes Tourinho': 3125804, 'Ferros': 3125903, 'Fervedouro': 3125952, 'Florestal': 3126000, 'Formiga': 3126109, 'Formoso': 3126208, 'Fortaleza de Minas': 3126307, 'Fortuna de Minas': 3126406, 'Francisco Badaró': 3126505, 'Francisco Dumont': 3126604, 'Francisco Sá': 3126703, 'Franciscópolis': 3126752, 'Frei Gaspar': 3126802, 'Frei Inocêncio': 3126901, 'Frei Lagonegro': 3126950, 'Fronteira': 3127008, 'Fronteira dos Vales': 3127057, 'Fruta de Leite': 3127073, 'Frutal': 3127107, 'Funilândia': 3127206, 'Galiléia': 3127305, 'Gameleiras': 3127339, 'Glaucilândia': 3127354, 'Goiabeira': 3127370, 'Goianá': 3127388, 'Gonçalves': 3127404, 'Gonzaga': 3127503, 'Gouveia': 3127602, 'Governador Valadares': 3127701, 'Grão Mogol': 3127800, 'Grupiara': 3127909, 'Guanhães': 3128006, 'Guapé': 3128105, 'Guaraciaba': 3128204, 'Guaraciama': 3128253, 'Guaranésia': 3128303, 'Guarani': 3128402, 'Guarará': 3128501, 'Guarda-Mor': 3128600, 'Guaxupé': 3128709, 'Guidoval': 3128808, 'Guimarânia': 3128907, 'Guiricema': 3129004, 'Gurinhatã': 3129103, 'Heliodora': 3129202, 'Iapu': 3129301, 'Ibertioga': 3129400, 'Ibiá': 3129509, 'Ibiaí': 3129608, 'Ibiracatu': 3129657, 'Ibiraci': 3129707, 'Ibirité': 3129806, 'Ibitiúra de Minas': 3129905, 'Ibituruna': 3130002, 'Icaraí de Minas': 3130051, 'Igarapé': 3130101, 'Igaratinga': 3130200, 'Iguatama': 3130309, 'Ijaci': 3130408, 'Ilicínea': 3130507, 'Imbé de Minas': 3130556, 'Inconfidentes': 3130606, 'Indaiabira': 3130655, 'Indianópolis': 3130705, 'Ingaí': 3130804, 'Inhapim': 3130903, 'Inhaúma': 3131000, 'Inimutaba': 3131109, 'Ipaba': 3131158, 'Ipanema': 3131208, 'Ipatinga': 3131307, 'Ipiaçu': 3131406, 'Ipuiúna': 3131505, 'Iraí de Minas': 3131604, 'Itabira': 3131703, 'Itabirinha': 3131802, 'Itabirito': 3131901, 'Itacambira': 3132008, 'Itacarambi': 3132107, 'Itaguara': 3132206, 'Itaipé': 3132305, 'Itajubá': 3132404, 'Itamarandiba': 3132503, 'Itamarati de Minas': 3132602, 'Itambacuri': 3132701, 'Itambé do Mato Dentro': 3132800, 'Itamogi': 3132909, 'Itamonte': 3133006, 'Itanhandu': 3133105, 'Itanhomi': 3133204, 'Itaobim': 3133303, 'Itapagipe': 3133402, 'Itapecerica': 3133501, 'Itapeva': 3133600, 'Itatiaiuçu': 3133709, 'Itaú de Minas': 3133758, 'Itaúna': 3133808, 'Itaverava': 3133907, 'Itinga': 3134004, 'Itueta': 3134103, 'Ituiutaba': 3134202, 'Itumirim': 3134301, 'Iturama': 3134400, 'Itutinga': 3134509, 'Jaboticatubas': 3134608, 'Jacinto': 3134707, 'Jacuí': 3134806, 'Jacutinga': 3134905, 'Jaguaraçu': 3135001, 'Jaíba': 3135050, 'Jampruca': 3135076, 'Janaúba': 3135100, 'Januária': 3135209, 'Japaraíba': 3135308, 'Japonvar': 3135357, 'Jeceaba': 3135407, 'Jenipapo de Minas': 3135456, 'Jequeri': 3135506, 'Jequitaí': 3135605, 'Jequitibá': 3135704, 'Jequitinhonha': 3135803, 'Jesuânia': 3135902, 'Joaíma': 3136009, 'Joanésia': 3136108, 'João Monlevade': 3136207, 'João Pinheiro': 3136306, 'Joaquim Felício': 3136405, 'Jordânia': 3136504, 'José Gonçalves de Minas': 3136520, 'José Raydan': 3136553, 'Josenópolis': 3136579, 'Nova União': 3136603, 'Juatuba': 3136652, 'Juiz de Fora': 3136702, 'Juramento': 3136801, 'Juruaia': 3136900, 'Juvenília': 3136959, 'Ladainha': 3137007, 'Lagamar': 3137106, 'Lagoa da Prata': 3137205, 'Lagoa dos Patos': 3137304, 'Lagoa Dourada': 3137403, 'Lagoa Formosa': 3137502, 'Lagoa Grande': 3137536, 'Lagoa Santa': 3137601, 'Lajinha': 3137700, 'Lambari': 3137809, 'Lamim': 3137908, 'Laranjal': 3138005, 'Lassance': 3138104, 'Lavras': 3138203, 'Leandro Ferreira': 3138302, 'Leme do Prado': 3138351, 'Leopoldina': 3138401, 'Liberdade': 3138500, 'Lima Duarte': 3138609, 'Limeira do Oeste': 3138625, 'Lontra': 3138658, 'Luisburgo': 3138674, 'Luislândia': 3138682, 'Luminárias': 3138708, 'Luz': 3138807, 'Machacalis': 3138906, 'Machado': 3139003, 'Madre de Deus de Minas': 3139102, 'Malacacheta': 3139201, 'Mamonas': 3139250, 'Manga': 3139300, 'Manhuaçu': 3139409, 'Manhumirim': 3139508, 'Mantena': 3139607, 'Maravilhas': 3139706, 'Mar de Espanha': 3139805, 'Maria da Fé': 3139904, 'Mariana': 3140001, 'Marilac': 3140100, 'Mário Campos': 3140159, 'Maripá de Minas': 3140209, 'Marliéria': 3140308, 'Marmelópolis': 3140407, 'Martinho Campos': 3140506, 'Martins Soares': 3140530, 'Mata Verde': 3140555, 'Materlândia': 3140605, 'Mateus Leme': 3140704, 'Matias Barbosa': 3140803, 'Matias Cardoso': 3140852, 'Matipó': 3140902, 'Mato Verde': 3141009, 'Matozinhos': 3141108, 'Matutina': 3141207, 'Medeiros': 3141306, 'Medina': 3141405, 'Mendes Pimentel': 3141504, 'Mercês': 3141603, 'Mesquita': 3141702, 'Minas Novas': 3141801, 'Minduri': 3141900, 'Mirabela': 3142007, 'Miradouro': 3142106, 'Miraí': 3142205, 'Miravânia': 3142254, 'Moeda': 3142304, 'Moema': 3142403, 'Monjolos': 3142502, 'Monsenhor Paulo': 3142601, 'Montalvânia': 3142700, 'Monte Alegre de Minas': 3142809, 'Monte Azul': 3142908, 'Monte Belo': 3143005, 'Monte Carmelo': 3143104, 'Monte Formoso': 3143153, 'Monte Santo de Minas': 3143203, 'Montes Claros': 3143302, 'Monte Sião': 3143401, 'Montezuma': 3143450, 'Morada Nova de Minas': 3143500, 'Morro da Garça': 3143609, 'Morro do Pilar': 3143708, 'Munhoz': 3143807, 'Muriaé': 3143906, 'Mutum': 3144003, 'Muzambinho': 3144102, 'Nacip Raydan': 3144201, 'Nanuque': 3144300, 'Naque': 3144359, 'Natalândia': 3144375, 'Natércia': 3144409, 'Nazareno': 3144508, 'Nepomuceno': 3144607, 'Ninheira': 3144656, 'Nova Belém': 3144672, 'Nova Era': 3144706, 'Nova Lima': 3144805, 'Nova Módica': 3144904, 'Nova Ponte': 3145000, 'Nova Porteirinha': 3145059, 'Nova Resende': 3145109, 'Nova Serrana': 3145208, 'Novo Cruzeiro': 3145307, 'Novo Oriente de Minas': 3145356, 'Novorizonte': 3145372, 'Olaria': 3145406, \"Olhos-d'Água\": 3145455, 'Olímpio Noronha': 3145505, 'Oliveira': 3145604, 'Oliveira Fortes': 3145703, 'Onça de Pitangui': 3145802, 'Oratórios': 3145851, 'Orizânia': 3145877, 'Ouro Branco': 3145901, 'Ouro Fino': 3146008, 'Ouro Preto': 3146107, 'Ouro Verde de Minas': 3146206, 'Padre Carvalho': 3146255, 'Padre Paraíso': 3146305, 'Paineiras': 3146404, 'Pains': 3146503, 'Pai Pedro': 3146552, 'Paiva': 3146602, 'Palma': 3146701, 'Palmópolis': 3146750, 'Papagaios': 3146909, 'Paracatu': 3147006, 'Pará de Minas': 3147105, 'Paraguaçu': 3147204, 'Paraisópolis': 3147303, 'Paraopeba': 3147402, 'Passabém': 3147501, 'Passa Quatro': 3147600, 'Passa Tempo': 3147709, 'Passa Vinte': 3147808, 'Passos': 3147907, 'Patis': 3147956, 'Patos de Minas': 3148004, 'Patrocínio': 3148103, 'Patrocínio do Muriaé': 3148202, 'Paula Cândido': 3148301, 'Paulistas': 3148400, 'Pavão': 3148509, 'Peçanha': 3148608, 'Pedra Azul': 3148707, 'Pedra Bonita': 3148756, 'Pedra do Anta': 3148806, 'Pedra do Indaiá': 3148905, 'Pedra Dourada': 3149002, 'Pedralva': 3149101, 'Pedras de Maria da Cruz': 3149150, 'Pedrinópolis': 3149200, 'Pedro Leopoldo': 3149309, 'Pedro Teixeira': 3149408, 'Pequeri': 3149507, 'Pequi': 3149606, 'Perdigão': 3149705, 'Perdizes': 3149804, 'Perdões': 3149903, 'Periquito': 3149952, 'Pescador': 3150000, 'Piau': 3150109, 'Piedade de Caratinga': 3150158, 'Piedade de Ponte Nova': 3150208, 'Piedade do Rio Grande': 3150307, 'Piedade dos Gerais': 3150406, 'Pimenta': 3150505, \"Pingo-d'Água\": 3150539, 'Pintópolis': 3150570, 'Piracema': 3150604, 'Pirajuba': 3150703, 'Piranga': 3150802, 'Piranguçu': 3150901, 'Piranguinho': 3151008, 'Pirapetinga': 3151107, 'Pirapora': 3151206, 'Piraúba': 3151305, 'Pitangui': 3151404, 'Piumhi': 3151503, 'Planura': 3151602, 'Poço Fundo': 3151701, 'Poços de Caldas': 3151800, 'Pocrane': 3151909, 'Pompéu': 3152006, 'Ponte Nova': 3152105, 'Ponto Chique': 3152131, 'Ponto dos Volantes': 3152170, 'Porteirinha': 3152204, 'Porto Firme': 3152303, 'Poté': 3152402, 'Pouso Alegre': 3152501, 'Pouso Alto': 3152600, 'Prados': 3152709, 'Prata': 3152808, 'Pratápolis': 3152907, 'Pratinha': 3153004, 'Presidente Bernardes': 3153103, 'Presidente Juscelino': 3153202, 'Presidente Kubitschek': 3153301, 'Presidente Olegário': 3153400, 'Alto Jequitibá': 3153509, 'Prudente de Morais': 3153608, 'Quartel Geral': 3153707, 'Queluzito': 3153806, 'Raposos': 3153905, 'Raul Soares': 3154002, 'Recreio': 3154101, 'Reduto': 3154150, 'Resende Costa': 3154200, 'Resplendor': 3154309, 'Ressaquinha': 3154408, 'Riachinho': 3154457, 'Riacho dos Machados': 3154507, 'Ribeirão das Neves': 3154606, 'Ribeirão Vermelho': 3154705, 'Rio Acima': 3154804, 'Rio Casca': 3154903, 'Rio Doce': 3155009, 'Rio do Prado': 3155108, 'Rio Espera': 3155207, 'Rio Manso': 3155306, 'Rio Novo': 3155405, 'Rio Paranaíba': 3155504, 'Rio Pardo de Minas': 3155603, 'Rio Piracicaba': 3155702, 'Rio Pomba': 3155801, 'Rio Preto': 3155900, 'Rio Vermelho': 3156007, 'Ritápolis': 3156106, 'Rochedo de Minas': 3156205, 'Rodeiro': 3156304, 'Romaria': 3156403, 'Rosário da Limeira': 3156452, 'Rubelita': 3156502, 'Rubim': 3156601, 'Sabará': 3156700, 'Sabinópolis': 3156809, 'Sacramento': 3156908, 'Salinas': 3157005, 'Salto da Divisa': 3157104, 'Santa Bárbara': 3157203, 'Santa Bárbara do Leste': 3157252, 'Santa Bárbara do Monte Verde': 3157278, 'Santa Bárbara do Tugúrio': 3157302, 'Santa Cruz de Minas': 3157336, 'Santa Cruz de Salinas': 3157377, 'Santa Cruz do Escalvado': 3157401, 'Santa Efigênia de Minas': 3157500, 'Santa Fé de Minas': 3157609, 'Santa Helena de Minas': 3157658, 'Santa Juliana': 3157708, 'Santa Luzia': 3157807, 'Santa Margarida': 3157906, 'Santa Maria de Itabira': 3158003, 'Santa Maria do Salto': 3158102, 'Santa Maria do Suaçuí': 3158201, 'Santana da Vargem': 3158300, 'Santana de Cataguases': 3158409, 'Santana de Pirapama': 3158508, 'Santana do Deserto': 3158607, 'Santana do Garambéu': 3158706, 'Santana do Jacaré': 3158805, 'Santana do Manhuaçu': 3158904, 'Santana do Paraíso': 3158953, 'Santana do Riacho': 3159001, 'Santana dos Montes': 3159100, 'Santa Rita de Caldas': 3159209, 'Santa Rita de Jacutinga': 3159308, 'Santa Rita de Minas': 3159357, 'Santa Rita de Ibitipoca': 3159407, 'Santa Rita do Itueto': 3159506, 'Santa Rita do Sapucaí': 3159605, 'Santa Rosa da Serra': 3159704, 'Santa Vitória': 3159803, 'Santo Antônio do Amparo': 3159902, 'Santo Antônio do Aventureiro': 3160009, 'Santo Antônio do Grama': 3160108, 'Santo Antônio do Itambé': 3160207, 'Santo Antônio do Jacinto': 3160306, 'Santo Antônio do Monte': 3160405, 'Santo Antônio do Retiro': 3160454, 'Santo Antônio do Rio Abaixo': 3160504, 'Santo Hipólito': 3160603, 'Santos Dumont': 3160702, 'São Bento Abade': 3160801, 'São Brás do Suaçuí': 3160900, 'São Domingos das Dores': 3160959, 'São Domingos do Prata': 3161007, 'São Félix de Minas': 3161056, 'São Francisco': 3161106, 'São Francisco de Paula': 3161205, 'São Francisco de Sales': 3161304, 'São Francisco do Glória': 3161403, 'São Geraldo': 3161502, 'São Geraldo da Piedade': 3161601, 'São Geraldo do Baixio': 3161650, 'São Gonçalo do Abaeté': 3161700, 'São Gonçalo do Pará': 3161809, 'São Gonçalo do Rio Abaixo': 3161908, 'São Gonçalo do Sapucaí': 3162005, 'São Gotardo': 3162104, 'São João Batista do Glória': 3162203, 'São João da Lagoa': 3162252, 'São João da Mata': 3162302, 'São João da Ponte': 3162401, 'São João das Missões': 3162450, 'São João del Rei': 3162500, 'São João do Manhuaçu': 3162559, 'São João do Manteninha': 3162575, 'São João do Oriente': 3162609, 'São João do Pacuí': 3162658, 'São João do Paraíso': 3162708, 'São João Evangelista': 3162807, 'São João Nepomuceno': 3162906, 'São Joaquim de Bicas': 3162922, 'São José da Barra': 3162948, 'São José da Lapa': 3162955, 'São José da Safira': 3163003, 'São José da Varginha': 3163102, 'São José do Alegre': 3163201, 'São José do Divino': 3163300, 'São José do Goiabal': 3163409, 'São José do Jacuri': 3163508, 'São José do Mantimento': 3163607, 'São Lourenço': 3163706, 'São Miguel do Anta': 3163805, 'São Pedro da União': 3163904, 'São Pedro dos Ferros': 3164001, 'São Pedro do Suaçuí': 3164100, 'São Romão': 3164209, 'São Roque de Minas': 3164308, 'São Sebastião da Bela Vista': 3164407, 'São Sebastião da Vargem Alegre': 3164431, 'São Sebastião do Anta': 3164472, 'São Sebastião do Maranhão': 3164506, 'São Sebastião do Oeste': 3164605, 'São Sebastião do Paraíso': 3164704, 'São Sebastião do Rio Preto': 3164803, 'São Sebastião do Rio Verde': 3164902, 'São Tiago': 3165008, 'São Tomás de Aquino': 3165107, 'São Tomé das Letras': 3165206, 'São Vicente de Minas': 3165305, 'Sapucaí-Mirim': 3165404, 'Sardoá': 3165503, 'Sarzedo': 3165537, 'Setubinha': 3165552, 'Sem-Peixe': 3165560, 'Senador Amaral': 3165578, 'Senador Cortes': 3165602, 'Senador Firmino': 3165701, 'Senador José Bento': 3165800, 'Senador Modestino Gonçalves': 3165909, 'Senhora de Oliveira': 3166006, 'Senhora do Porto': 3166105, 'Senhora dos Remédios': 3166204, 'Sericita': 3166303, 'Seritinga': 3166402, 'Serra Azul de Minas': 3166501, 'Serra da Saudade': 3166600, 'Serra dos Aimorés': 3166709, 'Serra do Salitre': 3166808, 'Serrania': 3166907, 'Serranópolis de Minas': 3166956, 'Serranos': 3167004, 'Serro': 3167103, 'Sete Lagoas': 3167202, 'Silveirânia': 3167301, 'Silvianópolis': 3167400, 'Simão Pereira': 3167509, 'Simonésia': 3167608, 'Sobrália': 3167707, 'Soledade de Minas': 3167806, 'Tabuleiro': 3167905, 'Taiobeiras': 3168002, 'Taparuba': 3168051, 'Tapira': 3168101, 'Tapiraí': 3168200, 'Taquaraçu de Minas': 3168309, 'Tarumirim': 3168408, 'Teixeiras': 3168507, 'Teófilo Otoni': 3168606, 'Timóteo': 3168705, 'Tiradentes': 3168804, 'Tiros': 3168903, 'Tocantins': 3169000, 'Tocos do Moji': 3169059, 'Toledo': 3169109, 'Tombos': 3169208, 'Três Corações': 3169307, 'Três Marias': 3169356, 'Três Pontas': 3169406, 'Tumiritinga': 3169505, 'Tupaciguara': 3169604, 'Turmalina': 3169703, 'Turvolândia': 3169802, 'Ubá': 3169901, 'Ubaí': 3170008, 'Ubaporanga': 3170057, 'Uberaba': 3170107, 'Uberlândia': 3170206, 'Umburatiba': 3170305, 'Unaí': 3170404, 'União de Minas': 3170438, 'Uruana de Minas': 3170479, 'Urucânia': 3170503, 'Urucuia': 3170529, 'Vargem Alegre': 3170578, 'Vargem Bonita': 3170602, 'Vargem Grande do Rio Pardo': 3170651, 'Varginha': 3170701, 'Varjão de Minas': 3170750, 'Várzea da Palma': 3170800, 'Varzelândia': 3170909, 'Vazante': 3171006, 'Verdelândia': 3171030, 'Veredinha': 3171071, 'Veríssimo': 3171105, 'Vermelho Novo': 3171154, 'Vespasiano': 3171204, 'Viçosa': 3171303, 'Vieiras': 3171402, 'Mathias Lobato': 3171501, 'Virgem da Lapa': 3171600, 'Virgínia': 3171709, 'Virginópolis': 3171808, 'Virgolândia': 3171907, 'Visconde do Rio Branco': 3172004, 'Volta Grande': 3172103, 'Wenceslau Braz': 3172202, 'Dona Eusébia': 3122900}\n",
      "\n",
      "Dicionário salvo em 'municipio_id.py'\n"
     ]
    }
   ],
   "source": [
    "df['id'] = df['id'].astype(int)\n",
    "municipios_map = dict(zip(df['nome'], df['id']))\n",
    "municipios_map['Dona Eusébia'] = 3122900 # esse municipio possui duas formas de se escrever\n",
    "print(municipios_map)\n",
    "\n",
    "file_name = 'municipio_id.py'\n",
    "content = f'municipio_map = {json.dumps(municipios_map, indent=4)}'\n",
    "\n",
    "with open(file_name, 'w') as file:\n",
    "    file.write(content)\n",
    "\n",
    "print(f\"\\nDicionário salvo em '{file_name}'\")\n"
   ]
  },
  {
   "cell_type": "code",
   "execution_count": 21,
   "metadata": {},
   "outputs": [
    {
     "name": "stdout",
     "output_type": "stream",
     "text": [
      "int64\n",
      "id\n",
      "<class 'int'>    853\n",
      "Name: count, dtype: int64\n"
     ]
    }
   ],
   "source": [
    "#print(type(df['id'].iloc[5]))\n",
    "print(df['id'].dtype)\n",
    "print(df['id'].apply(type).value_counts())\n"
   ]
  },
  {
   "cell_type": "markdown",
   "metadata": {},
   "source": [
    "### Envia dados para o banco de dados"
   ]
  },
  {
   "cell_type": "code",
   "execution_count": 12,
   "metadata": {},
   "outputs": [
    {
     "name": "stdout",
     "output_type": "stream",
     "text": [
      "2024-07-26 16:22:50,853 INFO sqlalchemy.engine.Engine select pg_catalog.version()\n",
      "2024-07-26 16:22:50,857 INFO sqlalchemy.engine.Engine [raw sql] {}\n",
      "2024-07-26 16:22:50,932 INFO sqlalchemy.engine.Engine select current_schema()\n",
      "2024-07-26 16:22:50,934 INFO sqlalchemy.engine.Engine [raw sql] {}\n",
      "2024-07-26 16:22:50,999 INFO sqlalchemy.engine.Engine show standard_conforming_strings\n",
      "2024-07-26 16:22:51,007 INFO sqlalchemy.engine.Engine [raw sql] {}\n",
      "2024-07-26 16:22:51,076 INFO sqlalchemy.engine.Engine BEGIN (implicit)\n",
      "2024-07-26 16:22:51,246 INFO sqlalchemy.engine.Engine SELECT pg_catalog.pg_class.relname \n",
      "FROM pg_catalog.pg_class JOIN pg_catalog.pg_namespace ON pg_catalog.pg_namespace.oid = pg_catalog.pg_class.relnamespace \n",
      "WHERE pg_catalog.pg_class.relname = %(table_name)s AND pg_catalog.pg_class.relkind = ANY (ARRAY[%(param_1)s, %(param_2)s, %(param_3)s, %(param_4)s, %(param_5)s]) AND pg_catalog.pg_table_is_visible(pg_catalog.pg_class.oid) AND pg_catalog.pg_namespace.nspname != %(nspname_1)s\n",
      "2024-07-26 16:22:51,247 INFO sqlalchemy.engine.Engine [generated in 0.00174s] {'table_name': 'Municipio', 'param_1': 'r', 'param_2': 'p', 'param_3': 'f', 'param_4': 'v', 'param_5': 'm', 'nspname_1': 'pg_catalog'}\n",
      "2024-07-26 16:22:51,316 INFO sqlalchemy.engine.Engine INSERT INTO \"Municipio\" (\"UF\", id, nome) VALUES (%(UF__0)s, %(id__0)s, %(nome__0)s), (%(UF__1)s, %(id__1)s, %(nome__1)s), (%(UF__2)s, %(id__2)s, %(nome__2)s), (%(UF__3)s, %(id__3)s, %(nome__3)s), (%(UF__4)s, %(id__4)s, %(nome__4)s), (%(UF__5)s, %(id_ ... 36045 characters truncated ... %(nome__850)s), (%(UF__851)s, %(id__851)s, %(nome__851)s), (%(UF__852)s, %(id__852)s, %(nome__852)s)\n",
      "2024-07-26 16:22:51,317 INFO sqlalchemy.engine.Engine [generated in 0.00213s (insertmanyvalues) 1/1 (unordered)] {'id__0': 3100104, 'UF__0': 'MG', 'nome__0': 'Abadia dos Dourados', 'id__1': 3100203, 'UF__1': 'MG', 'nome__1': 'Abaeté', 'id__2': 3100302, 'UF__2': 'MG', 'nome__2': 'Abre Campo', 'id__3': 3100401, 'UF__3': 'MG', 'nome__3': 'Acaiaca', 'id__4': 3100500, 'UF__4': 'MG', 'nome__4': 'Açucena', 'id__5': 3100609, 'UF__5': 'MG', 'nome__5': 'Água Boa', 'id__6': 3100708, 'UF__6': 'MG', 'nome__6': 'Água Comprida', 'id__7': 3100807, 'UF__7': 'MG', 'nome__7': 'Aguanil', 'id__8': 3100906, 'UF__8': 'MG', 'nome__8': 'Águas Formosas', 'id__9': 3101003, 'UF__9': 'MG', 'nome__9': 'Águas Vermelhas', 'id__10': 3101102, 'UF__10': 'MG', 'nome__10': 'Aimorés', 'id__11': 3101201, 'UF__11': 'MG', 'nome__11': 'Aiuruoca', 'id__12': 3101300, 'UF__12': 'MG', 'nome__12': 'Alagoa', 'id__13': 3101409, 'UF__13': 'MG', 'nome__13': 'Albertina', 'id__14': 3101508, 'UF__14': 'MG', 'nome__14': 'Além Paraíba', 'id__15': 3101607, 'UF__15': 'MG', 'nome__15': 'Alfenas', 'id__16': 3101631, 'UF__16': 'MG' ... 2459 parameters truncated ... 'UF__836': 'MG', 'nome__836': 'Varzelândia', 'id__837': 3171006, 'UF__837': 'MG', 'nome__837': 'Vazante', 'id__838': 3171030, 'UF__838': 'MG', 'nome__838': 'Verdelândia', 'id__839': 3171071, 'UF__839': 'MG', 'nome__839': 'Veredinha', 'id__840': 3171105, 'UF__840': 'MG', 'nome__840': 'Veríssimo', 'id__841': 3171154, 'UF__841': 'MG', 'nome__841': 'Vermelho Novo', 'id__842': 3171204, 'UF__842': 'MG', 'nome__842': 'Vespasiano', 'id__843': 3171303, 'UF__843': 'MG', 'nome__843': 'Viçosa', 'id__844': 3171402, 'UF__844': 'MG', 'nome__844': 'Vieiras', 'id__845': 3171501, 'UF__845': 'MG', 'nome__845': 'Mathias Lobato', 'id__846': 3171600, 'UF__846': 'MG', 'nome__846': 'Virgem da Lapa', 'id__847': 3171709, 'UF__847': 'MG', 'nome__847': 'Virgínia', 'id__848': 3171808, 'UF__848': 'MG', 'nome__848': 'Virginópolis', 'id__849': 3171907, 'UF__849': 'MG', 'nome__849': 'Virgolândia', 'id__850': 3172004, 'UF__850': 'MG', 'nome__850': 'Visconde do Rio Branco', 'id__851': 3172103, 'UF__851': 'MG', 'nome__851': 'Volta Grande', 'id__852': 3172202, 'UF__852': 'MG', 'nome__852': 'Wenceslau Braz'}\n",
      "2024-07-26 16:22:51,460 INFO sqlalchemy.engine.Engine SELECT pg_catalog.pg_class.relname \n",
      "FROM pg_catalog.pg_class JOIN pg_catalog.pg_namespace ON pg_catalog.pg_namespace.oid = pg_catalog.pg_class.relnamespace \n",
      "WHERE pg_catalog.pg_class.relkind = ANY (ARRAY[%(param_1)s, %(param_2)s]) AND pg_catalog.pg_class.relpersistence != %(relpersistence_1)s AND pg_catalog.pg_table_is_visible(pg_catalog.pg_class.oid) AND pg_catalog.pg_namespace.nspname != %(nspname_1)s\n",
      "2024-07-26 16:22:51,463 INFO sqlalchemy.engine.Engine [generated in 0.00403s] {'param_1': 'r', 'param_2': 'p', 'relpersistence_1': 't', 'nspname_1': 'pg_catalog'}\n",
      "2024-07-26 16:22:51,500 INFO sqlalchemy.engine.Engine COMMIT\n"
     ]
    },
    {
     "data": {
      "text/plain": [
       "853"
      ]
     },
     "execution_count": 12,
     "metadata": {},
     "output_type": "execute_result"
    }
   ],
   "source": [
    "df.to_sql('Municipio', con=engine, if_exists='append', index=False)"
   ]
  }
 ],
 "metadata": {
  "kernelspec": {
   "display_name": "WebScrapper",
   "language": "python",
   "name": "python3"
  },
  "language_info": {
   "codemirror_mode": {
    "name": "ipython",
    "version": 3
   },
   "file_extension": ".py",
   "mimetype": "text/x-python",
   "name": "python",
   "nbconvert_exporter": "python",
   "pygments_lexer": "ipython3",
   "version": "3.12.3"
  }
 },
 "nbformat": 4,
 "nbformat_minor": 2
}
