{
 "cells": [
  {
   "cell_type": "code",
   "execution_count": 36,
   "metadata": {},
   "outputs": [],
   "source": [
    "from abc import ABC, abstractmethod\n",
    "import re\n",
    "\n",
    "import pandas as pd\n",
    "import os\n",
    "from sqlalchemy import create_engine, MetaData\n",
    "from sqlalchemy.orm import sessionmaker\n",
    "from dotenv import dotenv_values"
   ]
  },
  {
   "cell_type": "markdown",
   "metadata": {},
   "source": [
    "## Settings database and create SQLALCHEMY engine"
   ]
  },
  {
   "cell_type": "code",
   "execution_count": null,
   "metadata": {},
   "outputs": [],
   "source": [
    "config = dotenv_values(\"./.env\")\n",
    "username = config.get(\"DATABASE_USERNAME\")\n",
    "password = config.get(\"DATABASE_PASSWORD\")\n",
    "dbname = config.get(\"DATABASE_NAME\")\n",
    "port = config.get(\"DATABASE_PORT\")\n",
    "host = config.get(\"DATABASE_HOST\")\n",
    "\n",
    "engine = create_engine(f\"postgresql+psycopg2://{username}:{password}@{host}:{port}/{dbname}\", echo=True)"
   ]
  },
  {
   "cell_type": "markdown",
   "metadata": {},
   "source": [
    "## Get path from categories"
   ]
  },
  {
   "cell_type": "code",
   "execution_count": 82,
   "metadata": {},
   "outputs": [
    {
     "name": "stdout",
     "output_type": "stream",
     "text": [
      "/home/jorranico/Documentos/UnB/Disciplinas/2024-1-EducaMinas-backend/WebScrapper/oracle_data/CorRaa\n",
      "CorRaa\n",
      "['2022_EnsinoFundamental_AnosFinais_CorRaa.csv', '2020_EnsinoFundamental_TodososValoresdeColunas_CorRaa.csv', '2023_EnsinoFundamental_AnosIniciais_CorRaa.csv', '2021_EnsinoFundamental_AnosFinais_CorRaa.csv', '2023_EnsinoFundamental_TodososValoresdeColunas_CorRaa.csv', '2021_EnsinoFundamental_TodososValoresdeColunas_CorRaa.csv', '2022_EnsinoFundamental_AnosIniciais_CorRaa.csv', '2023_EnsinoMdio__CorRaa.csv', '2021_EnsinoFundamental_AnosIniciais_CorRaa.csv', '2022_EnsinoFundamental_TodososValoresdeColunas_CorRaa.csv', '2020_EnsinoFundamental_AnosFinais_CorRaa.csv', '2021_EnsinoMdio__CorRaa.csv', '2020_EnsinoMdio__CorRaa.csv', '2022_EnsinoMdio__CorRaa.csv', '2023_EnsinoFundamental_AnosFinais_CorRaa.csv', '2020_EnsinoFundamental_AnosIniciais_CorRaa.csv']\n"
     ]
    }
   ],
   "source": [
    "path_data = os.path.abspath(os.path.join(os.getcwd(), \"../oracle_data\"))\n",
    "arquivos_cor_raca = os.path.abspath(os.path.join(path_data, \"CorRaa\"))\n",
    "arquivos_depend_admin = os.path.abspath(os.path.join(path_data, \"DependnciaAdministrativa\"))\n",
    "\n",
    "print(arquivos_cor_raca)\n",
    "diretorio, desmembrado = os.path.split(arquivos_cor_raca)\n",
    "print(desmembrado)\n",
    "print(os.listdir(arquivos_cor_raca))"
   ]
  },
  {
   "cell_type": "markdown",
   "metadata": {},
   "source": [
    "## DATA INTERFACE"
   ]
  },
  {
   "cell_type": "code",
   "execution_count": 69,
   "metadata": {},
   "outputs": [
    {
     "name": "stdout",
     "output_type": "stream",
     "text": [
      "('2020', 'EnsinoFundamental', 'TodososValoresdeColunas', 'DependnciaAdministrativa')\n"
     ]
    }
   ],
   "source": [
    "path = '2020_EnsinoFundamental_TodososValoresdeColunas_DependnciaAdministrativa.csv'\n",
    "#'2020_EnsinoFundamental_TodososValoresdeColunas_DependnciaAdministrativa.csv'\n",
    "#'2023_EnsinoMdio__DependnciaAdministrativa.csv'\n",
    "\n",
    "\n",
    "\n",
    "if not '__' in path:\n",
    "    padrao = r'(\\d{4})_(\\w+)_(\\w+)_(\\w+)\\.csv'\n",
    "else:\n",
    "    padrao = r'(\\d{4})_(\\w+)__(\\w+)\\.csv'\n",
    "    \n",
    "teste = re.findall(padrao, path)[0]\n",
    "print(teste)\n",
    "\n",
    "#ESTA CELULA É DESCARTAVEL"
   ]
  },
  {
   "cell_type": "markdown",
   "metadata": {},
   "source": [
    "- transformar tudo para o tipo de dado do banco de dados, se possivel com SQLALCHEMY"
   ]
  },
  {
   "cell_type": "code",
   "execution_count": 80,
   "metadata": {},
   "outputs": [],
   "source": [
    "class Filters():\n",
    "    # csv_path is path source folder + file name\n",
    "    def __init__(self, csv_path) -> None:\n",
    "        self.__file_path = csv_path\n",
    "        source_path, self.__file_name = os.path.split(csv_path)\n",
    "        if not '__' in self.__file_name:\n",
    "            pattern = r'(\\d{4})_(\\w+)_(\\w+)_(\\w+)\\.csv'\n",
    "        else:\n",
    "            pattern = r'(\\d{4})_(\\w+)__(\\w+)\\.csv'\n",
    "        self.__filters = re.findall(pattern, self.__file_name)[0]\n",
    "        \n",
    "        self.__correspondents = {\n",
    "            'EnsinoFundamental':'EF',\n",
    "            'AnosIniciais':'1',\n",
    "            'AnosFinais':'2',\n",
    "            'TodososValoresdeColunas':'todos',\n",
    "            'EnsinoMdio':'EM',\n",
    "            'CorRaa':'cor_raca',\n",
    "            'DependnciaAdministrativa':'dependencia_administrativa'\n",
    "        }\n",
    "\n",
    "        self.__year()\n",
    "        self.__teaching_stage()\n",
    "        self.__category()\n",
    "\n",
    "    def __year(self):\n",
    "        self.__year = int(self.__filters[0])\n",
    "\n",
    "    def __teaching_stage(self):\n",
    "        self.__teaching_stage = self.__correspondents[self.__filters[1]]\n",
    "        if self.__teaching_stage == 'EF':\n",
    "            level = self.__correspondents[self.__filters[2]]\n",
    "            if level != 'todos':\n",
    "                self.__teaching_stage += level\n",
    "\n",
    "    def __category(self):\n",
    "        self.__category = self.__correspondents[self.__filters[-1]]\n",
    "    \n",
    "    #getters\n",
    "    def get_year(self):\n",
    "        return self.__year\n",
    "    \n",
    "    def get_teaching_stage(self):\n",
    "        return self.__teaching_stage\n",
    "    \n",
    "    def get_category(self):\n",
    "        return self.__category\n",
    "    \n",
    "    def get_file_name(self):\n",
    "        return self.__file_name\n",
    "    \n",
    "    def get_file_path(self):\n",
    "        return self.__file_path\n",
    "\n",
    "    \"\"\" def __municipio_id(self):\n",
    "        pass \"\"\"\n",
    "\n"
   ]
  },
  {
   "cell_type": "code",
   "execution_count": 83,
   "metadata": {},
   "outputs": [
    {
     "name": "stdout",
     "output_type": "stream",
     "text": [
      "EM\n",
      "2022\n",
      "cor_raca\n",
      "/home/jorranico/Documentos/UnB/Disciplinas/2024-1-EducaMinas-backend/WebScrapper/oracle_data/CorRaa/2022_EnsinoMdio__CorRaa.csv\n"
     ]
    }
   ],
   "source": [
    "path = '/home/jorranico/Documentos/UnB/Disciplinas/2024-1-EducaMinas-backend/WebScrapper/oracle_data/CorRaa/2022_EnsinoMdio__CorRaa.csv'\n",
    "arquivo1 = Filters(path)\n",
    "print(arquivo1.get_teaching_stage())\n",
    "print(arquivo1.get_year())\n",
    "print(arquivo1.get_category())\n",
    "print(arquivo1.get_file_path())"
   ]
  }
 ],
 "metadata": {
  "kernelspec": {
   "display_name": "WebScrapper",
   "language": "python",
   "name": "python3"
  },
  "language_info": {
   "codemirror_mode": {
    "name": "ipython",
    "version": 3
   },
   "file_extension": ".py",
   "mimetype": "text/x-python",
   "name": "python",
   "nbconvert_exporter": "python",
   "pygments_lexer": "ipython3",
   "version": "3.12.3"
  }
 },
 "nbformat": 4,
 "nbformat_minor": 2
}
