{
 "cells": [
  {
   "cell_type": "code",
   "execution_count": null,
   "metadata": {},
   "outputs": [],
   "source": [
    "import re\n",
    "\n",
    "import pandas as pd\n",
    "import os\n",
    "\n",
    "from sqlalchemy import create_engine, Column, Integer, String, ForeignKey, UniqueConstraint, func\n",
    "from sqlalchemy.orm import DeclarativeBase, Session\n",
    "\n",
    "from dotenv import dotenv_values\n",
    "\n",
    "from municipio_id import municipio_map"
   ]
  },
  {
   "cell_type": "markdown",
   "metadata": {},
   "source": [
    "## DATA FILTER CLASS"
   ]
  },
  {
   "cell_type": "markdown",
   "metadata": {},
   "source": [
    "- transformar tudo para o tipo de dado do banco de dados, se possivel com SQLALCHEMY"
   ]
  },
  {
   "cell_type": "code",
   "execution_count": null,
   "metadata": {},
   "outputs": [],
   "source": [
    "class InepFilters():\n",
    "    # csv_path is path source folder + file name\n",
    "    def __init__(self, csv_path) -> None:\n",
    "        self.__file_path = csv_path\n",
    "        source_path, self.__file_name = os.path.split(csv_path)\n",
    "        if '__' not in self.__file_name:\n",
    "            pattern = r'(\\d{4})_(\\w+)_(\\w+)_(\\w+)\\.csv'\n",
    "        else:\n",
    "            pattern = r'(\\d{4})_(\\w+)__(\\w+)\\.csv'\n",
    "        self.__filters = re.findall(pattern, self.__file_name)[0]\n",
    "\n",
    "        self.__correspondents = {\n",
    "            'EnsinoFundamental': 'EF',\n",
    "            'AnosIniciais': '1',\n",
    "            'AnosFinais': '2',\n",
    "            'TodososValoresdeColunas': 'todos',\n",
    "            'EnsinoMdio': 'EM',\n",
    "        }\n",
    "\n",
    "        self.__year()\n",
    "        self.__teaching_stage()\n",
    "\n",
    "    def __year(self):\n",
    "        self.__year = int(self.__filters[0])\n",
    "\n",
    "    def __teaching_stage(self):\n",
    "        self.__teaching_stage = self.__correspondents[self.__filters[1]]\n",
    "        if self.__teaching_stage == 'EF':\n",
    "            level = self.__correspondents[self.__filters[2]]\n",
    "            if level != 'todos':\n",
    "                self.__teaching_stage += level\n",
    "\n",
    "    # getters\n",
    "    def get_year(self):\n",
    "        return self.__year\n",
    "\n",
    "    def get_teaching_stage(self):\n",
    "        return self.__teaching_stage\n",
    "\n",
    "    def get_file_name(self):\n",
    "        return self.__file_name\n",
    "\n",
    "    def get_file_path(self):\n",
    "        return self.__file_path\n",
    "\n",
    "    def get_df(self) -> pd.DataFrame:\n",
    "        return pd.read_csv(self.__file_path, sep=';')"
   ]
  },
  {
   "cell_type": "markdown",
   "metadata": {},
   "source": [
    "## OFICIAL: Get path from categories and reading and group all file by path"
   ]
  },
  {
   "cell_type": "code",
   "execution_count": null,
   "metadata": {},
   "outputs": [],
   "source": [
    "def transform_file_path() -> list:\n",
    "    source_path_data = os.path.abspath(os.path.join(os.getcwd(), \"../oracle_data\"))\n",
    "    category_files = [os.path.join(source_path_data, i) for i in os.listdir(source_path_data)]\n",
    "    return category_files\n",
    "\n",
    "all_path_files = transform_file_path()\n",
    "print(len(all_path_files))\n"
   ]
  },
  {
   "cell_type": "markdown",
   "metadata": {},
   "source": [
    "## OFICIAL: GEN LIST INSTANCE FILTER BY PATH_FILE"
   ]
  },
  {
   "cell_type": "code",
   "execution_count": null,
   "metadata": {},
   "outputs": [],
   "source": [
    "all_category_objs = [InepFilters(i) for i in all_path_files]\n",
    "print(len(all_category_objs))"
   ]
  },
  {
   "cell_type": "markdown",
   "metadata": {},
   "source": [
    "### TEST: full_table_data (DISPOSABLE)"
   ]
  },
  {
   "cell_type": "code",
   "execution_count": null,
   "metadata": {},
   "outputs": [],
   "source": [
    "arquivo1 = all_category_objs[2]"
   ]
  },
  {
   "cell_type": "code",
   "execution_count": null,
   "metadata": {},
   "outputs": [],
   "source": [
    "df = arquivo1.get_df()\n",
    "# df = df.sort_values(by='Categoria 1 - Ordenação')\n",
    "df.rename(columns={'Categoria 1': 'cor_raca',\n",
    "                   'Matrículas': 'quantidade',\n",
    "                   'Categoria 2': 'dependencia_administrativa'}, inplace=True)\n",
    "df.drop(columns=[\n",
    "    'Etapa de Ensino - Superior', 'Etapa de Ensino', 'Localidade da Escola', 'Categoria 1 - Ordenação', 'Categoria 2 - Ordenação'], inplace=True)\n",
    "df['etapa_de_ensino'] = arquivo1.get_teaching_stage()\n",
    "df['ano'] = arquivo1.get_year()\n",
    "df['municipio_id'] = df['Município'].map(municipio_map)\n",
    "display(df)\n",
    "# verifica se todos os valores da coluna tem tal valor\n",
    "print((df['UF'] == 'MG').all())"
   ]
  },
  {
   "cell_type": "markdown",
   "metadata": {},
   "source": []
  },
  {
   "cell_type": "code",
   "execution_count": null,
   "metadata": {},
   "outputs": [],
   "source": [
    "lines_with_nan = df[df.isna().any(axis=1)]"
   ]
  },
  {
   "cell_type": "code",
   "execution_count": null,
   "metadata": {},
   "outputs": [],
   "source": [
    "display(lines_with_nan)"
   ]
  },
  {
   "cell_type": "markdown",
   "metadata": {},
   "source": [
    "# OFICIAL CODE:"
   ]
  },
  {
   "cell_type": "markdown",
   "metadata": {},
   "source": [
    "## Organizing table for insert"
   ]
  },
  {
   "cell_type": "code",
   "execution_count": null,
   "metadata": {},
   "outputs": [],
   "source": [
    "def make_full_table(data_filters: InepFilters) -> pd.DataFrame:\n",
    "    df = data_filters.get_df()\n",
    "    df.rename(columns={'Categoria 1': 'cor_raca',\n",
    "                       'Matrículas': 'quantidade',\n",
    "                       'Categoria 2': 'dependencia_administrativa'}, inplace=True)\n",
    "    df.drop(columns=[\n",
    "        'Etapa de Ensino - Superior', 'Etapa de Ensino', 'Localidade da Escola', 'Categoria 1 - Ordenação', 'Categoria 2 - Ordenação'], inplace=True)\n",
    "    df['etapa_de_ensino'] = data_filters.get_teaching_stage()\n",
    "    df['ano'] = data_filters.get_year()\n",
    "    df['municipio_id'] = df['Município'].map(municipio_map)\n",
    "    return df"
   ]
  },
  {
   "cell_type": "markdown",
   "metadata": {},
   "source": [
    "## Settings database and create SQLALCHEMY engine"
   ]
  },
  {
   "cell_type": "code",
   "execution_count": null,
   "metadata": {},
   "outputs": [],
   "source": [
    "config = dotenv_values(\"./.env\")\n",
    "username = config.get(\"DATABASE_USERNAME\")\n",
    "password = config.get(\"DATABASE_PASSWORD\")\n",
    "dbname = config.get(\"DATABASE_NAME\")\n",
    "port = config.get(\"DATABASE_PORT\")\n",
    "host = config.get(\"DATABASE_HOST\")\n",
    "\n",
    "engine = create_engine(\n",
    "    f\"postgresql+psycopg2://{username}:{password}@{host}:{port}/{dbname}\", echo=True)"
   ]
  },
  {
   "cell_type": "markdown",
   "metadata": {},
   "source": [
    "# inserting in database -> refactore"
   ]
  },
  {
   "cell_type": "markdown",
   "metadata": {},
   "source": [
    "## necessity apply design patterns: [Design Patterns](https://refactoring.guru/)"
   ]
  },
  {
   "cell_type": "code",
   "execution_count": null,
   "metadata": {},
   "outputs": [],
   "source": [
    "class Base(DeclarativeBase):\n",
    "    ..."
   ]
  },
  {
   "cell_type": "code",
   "execution_count": null,
   "metadata": {},
   "outputs": [],
   "source": [
    "class Municipio(Base):\n",
    "    __tablename__ = 'Municipio'\n",
    "    id = Column(Integer, primary_key=True, autoincrement=True)\n",
    "    nome = Column(String, nullable=False)\n",
    "    UF = Column(String, nullable=False)\n",
    "\n",
    "\n",
    "class Filtro(Base):\n",
    "    __tablename__ = 'Filtro'\n",
    "\n",
    "    id = Column(Integer, primary_key=True, autoincrement=True)\n",
    "    municipio_id = Column(Integer, ForeignKey('Municipio.id'), nullable=False)\n",
    "    etapa_de_ensino = Column(String(5), nullable=False)\n",
    "    ano = Column(Integer, nullable=False)\n",
    "\n",
    "    __table_args__ = (UniqueConstraint(\n",
    "        'municipio_id', 'etapa_de_ensino', 'ano', name='unique_municipio_etapa_ano'),)\n",
    "\n",
    "\n",
    "class Matricula(Base):\n",
    "    __tablename__ = 'Matricula'\n",
    "    id = Column(Integer, primary_key=True, autoincrement=True)\n",
    "    id_filtro = Column(Integer, ForeignKey('Filtro.id'), nullable=False)\n",
    "    cor_raca = Column(String(20), nullable=True)\n",
    "    dependencia_administrativa = Column(String(20), nullable=True)\n",
    "    quantidade = Column(Integer, nullable=True)\n",
    "\n",
    "\n",
    "# Configuração do banco de dados\n",
    "Base.metadata.create_all(engine)"
   ]
  },
  {
   "cell_type": "markdown",
   "metadata": {},
   "source": [
    "### Verifica se o filtro existe. Se não existir, cria e retorna o ID"
   ]
  },
  {
   "cell_type": "code",
   "execution_count": null,
   "metadata": {},
   "outputs": [],
   "source": [
    "def get_existing_filters(session):\n",
    "    # Obtém todos os filtros existentes no banco de dados\n",
    "    existing_filtros = session.query(Filtro).all()\n",
    "    # Converte em um dicionário para acesso rápido\n",
    "    filter_dict = {(f.municipio_id, f.etapa_de_ensino, f.ano): f.id for f in existing_filtros}\n",
    "    return filter_dict"
   ]
  },
  {
   "cell_type": "markdown",
   "metadata": {},
   "source": [
    "### Define checkpoints functions"
   ]
  },
  {
   "cell_type": "code",
   "execution_count": null,
   "metadata": {},
   "outputs": [],
   "source": [
    "script_path = os.path.dirname(os.path.realpath(__file__))\n",
    "CHECKPOINT_FILE = os.path.abspath(os.path.join(script_path, '.data_checkpoint.log'))"
   ]
  },
  {
   "cell_type": "code",
   "execution_count": null,
   "metadata": {},
   "outputs": [],
   "source": [
    "def save_checkpoint(file_name):\n",
    "    with open(CHECKPOINT_FILE, \"w\") as f:\n",
    "        f.write(f\"{file_name}\\n\")\n",
    "\n",
    "\n",
    "def load_checkpoint():\n",
    "    if os.path.exists(CHECKPOINT_FILE):\n",
    "        with open(CHECKPOINT_FILE, \"r\") as f:\n",
    "            content = f.read().strip()\n",
    "            if content:\n",
    "                file_name = content\n",
    "                return file_name\n",
    "    return None"
   ]
  },
  {
   "cell_type": "code",
   "execution_count": null,
   "metadata": {},
   "outputs": [],
   "source": [
    "def bulk_insert_data(full_table_data: pd.DataFrame, current_file: str=None):\n",
    "    # Verifica o progresso do checkpoint\n",
    "    with Session(engine) as session:\n",
    "        filter_dict = get_existing_filters(session)\n",
    "        matricula_objs = []\n",
    "\n",
    "        # Processar cada linha do DataFrame\n",
    "        for _, row in full_table_data.iterrows():\n",
    "            # Obter ou criar o filtro e obter seu ID\n",
    "\n",
    "            filter_key = (row['municipio_id'],\n",
    "                          row['etapa_de_ensino'], row['ano'])\n",
    "\n",
    "            if filter_key in filter_dict:\n",
    "                # Filtro já existe, usar o ID existente.\n",
    "                id_filter = filter_dict[filter_key]\n",
    "            else:\n",
    "                # Criar novo e adicionar no dicionario\n",
    "                filtro = Filtro(\n",
    "                    municipio_id=row['municipio_id'], etapa_de_ensino=row['etapa_de_ensino'], ano=row['ano'])\n",
    "                session.add(filtro)\n",
    "                session.flush()\n",
    "                id_filter = filtro.id\n",
    "                filter_dict[filter_key] = id_filter\n",
    "\n",
    "            matricula = Matricula(id_filtro=id_filter,\n",
    "                                  cor_raca=row['cor_raca'],\n",
    "                                  dependencia_administrativa=row['dependencia_administrativa'],\n",
    "                                  quantidade=row['quantidade'])\n",
    "            matricula_objs.append(matricula)\n",
    "            if current_file:\n",
    "                save_checkpoint(current_file)\n",
    "\n",
    "        # Inserir em lote\n",
    "        session.bulk_save_objects(matricula_objs)\n",
    "        session.commit()\n",
    "    if current_file:\n",
    "        os.remove(CHECKPOINT_FILE)"
   ]
  },
  {
   "cell_type": "code",
   "execution_count": null,
   "metadata": {},
   "outputs": [],
   "source": [
    "def alternate_file_and_insert():\n",
    "    checkpoint_file = load_checkpoint()\n",
    "    # garante que a partir de um certo index em all_category_objs, todos serao varridos\n",
    "    was_not_scanned = False\n",
    "    if not checkpoint_file:\n",
    "        was_not_scanned = True\n",
    "    for matricula_data in all_category_objs:\n",
    "        if was_not_scanned:\n",
    "            df_full_table = make_full_table(matricula_data)\n",
    "            bulk_insert_data(\n",
    "                df_full_table, matricula_data.get_file_path())\n",
    "        elif checkpoint_file == matricula_data.get_file_path():\n",
    "            was_not_scanned = True"
   ]
  },
  {
   "cell_type": "code",
   "execution_count": null,
   "metadata": {},
   "outputs": [],
   "source": [
    "alternate_file_and_insert()"
   ]
  },
  {
   "cell_type": "markdown",
   "metadata": {},
   "source": [
    "## Insert 'Todos' Columns"
   ]
  },
  {
   "cell_type": "code",
   "execution_count": null,
   "metadata": {},
   "outputs": [],
   "source": [
    "def check_and_create_all_municipios_id(session : Session):\n",
    "    # Verificar se o município com ID 1 existe e, se não, inseri-lo\n",
    "    municipio = session.query(Municipio).filter_by(id=1).first()\n",
    "    if not municipio:\n",
    "        municipio = Municipio(id=1, nome='Todos', UF='MG')\n",
    "        session.add(municipio)\n",
    "        session.commit()\n",
    "\n",
    "def municipios_sum_query_df(session: Session):\n",
    "    query = (\n",
    "        session.query(\n",
    "            Filtro.etapa_de_ensino,\n",
    "            Filtro.ano,\n",
    "            Matricula.cor_raca,\n",
    "            Matricula.dependencia_administrativa,\n",
    "            func.sum(Matricula.quantidade).label('quantidade')\n",
    "        )\n",
    "        .join(Matricula, Filtro.id == Matricula.id_filtro)\n",
    "        .filter(Filtro.municipio_id != 1)\n",
    "        .filter(Filtro.etapa_de_ensino != 'Todos')\n",
    "        .group_by(\n",
    "            Filtro.etapa_de_ensino,\n",
    "            Filtro.ano,\n",
    "            Matricula.cor_raca,\n",
    "            Matricula.dependencia_administrativa\n",
    "        )\n",
    "        .order_by(\n",
    "            Filtro.ano,\n",
    "            Filtro.etapa_de_ensino,\n",
    "            Matricula.cor_raca,\n",
    "            Matricula.dependencia_administrativa\n",
    "        )\n",
    "    )\n",
    "\n",
    "    # Executar a query\n",
    "    results = query.all()\n",
    "    # Converter resultados em DataFrame\n",
    "    df = pd.DataFrame(results, columns=['etapa_de_ensino', 'ano', 'cor_raca', 'dependencia_administrativa', 'quantidade'])\n",
    "    df['municipio_id'] = 1\n",
    "    \n",
    "    display(df)\n",
    "    return df\n",
    "\n",
    "def etapa_de_ensino_sum(session: Session):\n",
    "    query = (\n",
    "        session.query(\n",
    "            Filtro.municipio_id,\n",
    "            Filtro.ano,\n",
    "            Matricula.cor_raca,\n",
    "            Matricula.dependencia_administrativa,\n",
    "            func.sum(Matricula.quantidade).label('quantidade')\n",
    "        )\n",
    "        .join(Matricula, Filtro.id == Matricula.id_filtro)\n",
    "        .filter(Filtro.municipio_id != 1)\n",
    "        .filter(Filtro.etapa_de_ensino != 'Todos')\n",
    "        .group_by(\n",
    "            Filtro.municipio_id,\n",
    "            Filtro.ano,\n",
    "            Matricula.cor_raca,\n",
    "            Matricula.dependencia_administrativa\n",
    "        )\n",
    "        .order_by(\n",
    "            Filtro.ano,\n",
    "            Filtro.municipio_id,\n",
    "            Matricula.cor_raca,\n",
    "            Matricula.dependencia_administrativa\n",
    "        )\n",
    "    )\n",
    "    \n",
    "    # Executar a query\n",
    "    results = query.all()\n",
    "    # Converter resultados em DataFrame\n",
    "    df = pd.DataFrame(results, columns=['municipio_id', 'ano', 'cor_raca', 'dependencia_administrativa', 'quantidade'])\n",
    "    df['etapa_de_ensino'] = 'Todos'\n",
    "    \n",
    "    display(df)\n",
    "    return df\n",
    "\n",
    "def municipios_etapa_de_ensino_sum(session: Session):\n",
    "    query = (\n",
    "        session.query(\n",
    "            Filtro.ano,\n",
    "            Matricula.cor_raca,\n",
    "            Matricula.dependencia_administrativa,\n",
    "            func.sum(Matricula.quantidade).label('quantidade')\n",
    "        )\n",
    "        .join(Matricula, Filtro.id == Matricula.id_filtro)\n",
    "        .filter(Filtro.municipio_id != 1)\n",
    "        .filter(Filtro.etapa_de_ensino != 'Todos')\n",
    "        .group_by(\n",
    "            Filtro.ano,\n",
    "            Matricula.cor_raca,\n",
    "            Matricula.dependencia_administrativa\n",
    "        )\n",
    "        .order_by(\n",
    "            Filtro.ano,\n",
    "            Matricula.cor_raca,\n",
    "            Matricula.dependencia_administrativa\n",
    "        )\n",
    "    )\n",
    "\n",
    "    # Executar a query\n",
    "    results = query.all()\n",
    "    # Converter resultados em DataFrame\n",
    "    df = pd.DataFrame(results, columns=['ano', 'cor_raca', 'dependencia_administrativa', 'quantidade'])\n",
    "    df['etapa_de_ensino'] = 'Todos'\n",
    "    df['municipio_id'] = 1\n",
    "    \n",
    "    display(df)\n",
    "    return df\n",
    "\n",
    "def send_combination(session: Session):\n",
    "    check_and_create_all_municipios_id(session=session)\n",
    "    query_df = municipios_etapa_de_ensino_sum(session=session)\n",
    "    bulk_insert_data(full_table_data=query_df)\n",
    "\n",
    "def send_etapa_de_ensino_sum_to_db(session: Session):\n",
    "    query_df = etapa_de_ensino_sum(session=session)\n",
    "    bulk_insert_data(full_table_data=query_df)\n",
    "\n",
    "def send_municipios_sum_to_db(session: Session):\n",
    "    check_and_create_all_municipios_id(session=session)\n",
    "    query_df = municipios_sum_query_df(session=session)\n",
    "    bulk_insert_data(full_table_data=query_df)\n",
    "\n",
    "def insert_total():\n",
    "    with Session(engine) as session:\n",
    "        send_municipios_sum_to_db(session=session)\n",
    "        send_etapa_de_ensino_sum_to_db(session=session)\n",
    "        send_combination(session=session)"
   ]
  },
  {
   "cell_type": "code",
   "execution_count": null,
   "metadata": {},
   "outputs": [],
   "source": [
    "insert_total()"
   ]
  }
 ],
 "metadata": {
  "kernelspec": {
   "display_name": "WebScrapper",
   "language": "python",
   "name": "python3"
  },
  "language_info": {
   "codemirror_mode": {
    "name": "ipython",
    "version": 3
   },
   "file_extension": ".py",
   "mimetype": "text/x-python",
   "name": "python",
   "nbconvert_exporter": "python",
   "pygments_lexer": "ipython3",
   "version": "3.12.3"
  }
 },
 "nbformat": 4,
 "nbformat_minor": 2
}
